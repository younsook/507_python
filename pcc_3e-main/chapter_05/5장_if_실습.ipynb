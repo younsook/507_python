{
 "cells": [
  {
   "cell_type": "markdown",
   "id": "80971eeb",
   "metadata": {},
   "source": [
    "AI 데이터 분석에서 **리스트 컴프리헨션(List Comprehension)**과 그 안에서의 if 문은 데이터 전처리와 필터링 과정에서 매우 자주 사용"
   ]
  },
  {
   "cell_type": "code",
   "execution_count": null,
   "id": "8cb0518f",
   "metadata": {},
   "outputs": [
    {
     "name": "stdout",
     "output_type": "stream",
     "text": [
      "Audi\n",
      "bmw\n",
      "Subaru\n",
      "Toyota\n"
     ]
    }
   ],
   "source": [
    "cars = ['audi', 'bmw', 'subaru', 'toyota']\n",
    "\n",
    "for car in cars:\n",
    "    if car == 'bmw':\n",
    "        #print(car.upper())\n",
    "        print(car.lower()) #소문자\n",
    "    else:\n",
    "        print(car.title())"
   ]
  },
  {
   "cell_type": "code",
   "execution_count": null,
   "id": "a5a04e31",
   "metadata": {},
   "outputs": [],
   "source": [
    "\n",
    "cars = ['audi', 'bmw', 'subaru', 'toyota']\n",
    "# 간결한 한줄 코딩 익히기\n",
    "[print(car.upper() if car == 'bmw' else car.title()) for car in cars]\n"
   ]
  },
  {
   "cell_type": "markdown",
   "id": "1a971c97",
   "metadata": {},
   "source": [
    "in 키워드는 파이썬에서 \"어떤 값이 리스트(또는 다른 컬렉션)에 존재하는지 여부를 확인할 때\" 사용\n",
    "\n",
    "아주 자주 쓰이는 기본 문법 중 하나"
   ]
  },
  {
   "cell_type": "code",
   "execution_count": null,
   "id": "a1e32a89",
   "metadata": {},
   "outputs": [
    {
     "name": "stdout",
     "output_type": "stream",
     "text": [
      "True\n",
      "False\n"
     ]
    }
   ],
   "source": [
    "fruits = ['apple', 'banana', 'cherry']\n",
    "\n",
    "print('apple' in fruits)   # 값이 list에 있는지 확인하는 in 연산 \n",
    "print('grape' in fruits)   # False\n",
    "# in 에 대한 개념알기.\n"
   ]
  },
  {
   "cell_type": "code",
   "execution_count": 3,
   "id": "e4f63c6c",
   "metadata": {},
   "outputs": [
    {
     "name": "stdout",
     "output_type": "stream",
     "text": [
      "바나나가 있어요!\n"
     ]
    }
   ],
   "source": [
    "if 'banana' in fruits:\n",
    "    print(\"바나나가 있어요!\")\n"
   ]
  },
  {
   "cell_type": "code",
   "execution_count": null,
   "id": "e18f2e01",
   "metadata": {},
   "outputs": [],
   "source": [
    "favorite = ['apple', 'cherry']\n",
    "selected = [f for f in fruits if f in favorite] # 리스트 comprehension에서 if 문 사용하기 \n",
    "        # if f in favorite : f가 true 면.\n",
    "print(selected)  # ['apple', 'cherry']\n"
   ]
  },
  {
   "cell_type": "code",
   "execution_count": null,
   "id": "b9f807e2",
   "metadata": {},
   "outputs": [],
   "source": [
    "for fruit in fruits:\n",
    "    if fruit not in ['banana', 'grape']:  # not in 없으면\n",
    "        print(fruit)\n",
    "\n"
   ]
  },
  {
   "cell_type": "markdown",
   "id": "c381dcf7",
   "metadata": {},
   "source": [
    "in이 사용 가능한 자료형\n",
    "\n",
    "리스트 list:\t3 in [1, 2, 3]\n",
    "\n",
    "튜플 tuple\t: 'a' in ('a', 'b')\n",
    "\n",
    "문자열 str: \t'lo' in 'hello'\n",
    "\n",
    "딕셔너리 dict: \t'key' in {'key': 'value'} → 키만 확인\n",
    "\n",
    "집합 set:\t5 in {1, 2, 3, 5}"
   ]
  },
  {
   "cell_type": "markdown",
   "id": "6ccde7d0",
   "metadata": {},
   "source": [
    "AI/데이터 분석 실무에서 꼭 알아야 할 리스트 컴프리헨션 + if문 사용 예제"
   ]
  },
  {
   "cell_type": "code",
   "execution_count": null,
   "id": "543ade27",
   "metadata": {},
   "outputs": [
    {
     "name": "stdout",
     "output_type": "stream",
     "text": [
      "[10, 25, 30]\n"
     ]
    },
    {
     "data": {
      "text/plain": [
       "10"
      ]
     },
     "execution_count": 7,
     "metadata": {},
     "output_type": "execute_result"
    }
   ],
   "source": [
    "#1. 결측값(None, NaN 등) 제거\n",
    "data = [10, None, 25, None, 30]\n",
    "clean_data = [x for x in data if x is not None] #x가 none이 아니면 포함해라. 많이사용\n",
    "print(clean_data)\n",
    "x = 10\n",
    "x"
   ]
  },
  {
   "cell_type": "code",
   "execution_count": null,
   "id": "87ef7127",
   "metadata": {},
   "outputs": [
    {
     "name": "stdout",
     "output_type": "stream",
     "text": [
      "[5, 8]\n"
     ]
    }
   ],
   "source": [
    "# 2. 숫자형 데이터 중 양수만 필터링\n",
    "values = [-3, 5, 0, -1, 8]\n",
    "positive_values = [v for v in values if v > 0] #0보타 큰것만 출력\n",
    "print(positive_values)"
   ]
  },
  {
   "cell_type": "code",
   "execution_count": 9,
   "id": "f84712cf",
   "metadata": {},
   "outputs": [
    {
     "name": "stdout",
     "output_type": "stream",
     "text": [
      "['Machine Learning', 'Deep Learning']\n"
     ]
    }
   ],
   "source": [
    "#3. 문자열 리스트에서 특정 키워드 포함 항목만 추출\n",
    "texts = [\"AI is awesome\", \"I love pizza\", \"Machine Learning\", \"Deep Learning\"]\n",
    "ai_texts = [t for t in texts if \"Learning\" in t]\n",
    "print(ai_texts)"
   ]
  },
  {
   "cell_type": "code",
   "execution_count": null,
   "id": "dfd6bda5",
   "metadata": {},
   "outputs": [
    {
     "name": "stdout",
     "output_type": "stream",
     "text": [
      "[1, 3.5, 42]\n"
     ]
    }
   ],
   "source": [
    "#4. 데이터 타입 필터링 (예: 숫자만 추출)\n",
    "mixed = [1, 'a', 3.5, 'hello', 42]\n",
    "numbers = [x for x in mixed if isinstance(x, (int, float))] #isinstance()함수 : x가 int, float이면 true 그러면 포함하라.\n",
    "print(numbers)"
   ]
  },
  {
   "cell_type": "code",
   "execution_count": 3,
   "id": "6a28ab87",
   "metadata": {},
   "outputs": [
    {
     "name": "stdout",
     "output_type": "stream",
     "text": [
      "['양수', '음수', '음수', '양수']\n"
     ]
    }
   ],
   "source": [
    "#5. 조건에 따라 다른 값으로 변환 (if-else 사용)\n",
    "nums = [10, -5, 0, 3]\n",
    "labels = [\"양수\" if x > 0 else \"음수\" for x in nums]\n",
    "print(labels)"
   ]
  },
  {
   "cell_type": "code",
   "execution_count": null,
   "id": "bb0ea41e",
   "metadata": {},
   "outputs": [
    {
     "name": "stdout",
     "output_type": "stream",
     "text": [
      "리스트가 없음\n"
     ]
    }
   ],
   "source": [
    "### 5.4.2 리스트가 비어 있는지 확인: 교재 140페이지\n",
    "#파이썬에서는 \"빈 것은 False, 무언가 있으면 True\" 로 동작한다.\n",
    "#파이썬에서 빈 컨테이너(list, tuple, dict, set, str 등)는 if 문에서 False\n",
    "    #if [리스트]: #if 빈리스트면 false로 인식함.\n",
    "    #tested = {딕셔너리}, tested = (튜플), tested = \"스트링\"\n",
    "    #if tested:\n",
    "# None, 0, 0.0도 if문 테스트에서 false로 인식\n",
    "tested = {}\n",
    "if None:    \n",
    "    print(\"리스트가 있음\")\n",
    "else:\n",
    "    print(\"리스트가 없음\")\n",
    "\n"
   ]
  },
  {
   "cell_type": "markdown",
   "id": "11815665",
   "metadata": {},
   "source": [
    "리스트\t[]\tFalse\n",
    "튜플\t()\tFalse\n",
    "딕셔너리\t{}\tFalse\n",
    "집합\tset()\tFalse\n",
    "문자열\t\"\"\tFalse\n",
    "\n",
    "0, 0.0\tFalse\n",
    "None\tFalse\n",
    "비어있는 컨테이너\tFalse"
   ]
  }
 ],
 "metadata": {
  "kernelspec": {
   "display_name": "Python 3",
   "language": "python",
   "name": "python3"
  },
  "language_info": {
   "codemirror_mode": {
    "name": "ipython",
    "version": 3
   },
   "file_extension": ".py",
   "mimetype": "text/x-python",
   "name": "python",
   "nbconvert_exporter": "python",
   "pygments_lexer": "ipython3",
   "version": "3.9.13"
  }
 },
 "nbformat": 4,
 "nbformat_minor": 5
}
