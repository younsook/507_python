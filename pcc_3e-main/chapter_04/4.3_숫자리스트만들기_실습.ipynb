{
 "cells": [
  {
   "cell_type": "markdown",
   "id": "c449703c",
   "metadata": {},
   "source": [
    "예제 1: 처음 5개 요소 추출"
   ]
  },
  {
   "cell_type": "markdown",
   "id": "b584ba0c",
   "metadata": {},
   "source": [
    "range(1, 5) > iterable 객체 (range object) 생성\n",
    "list(range(1, 5)) > 리스트로 변환 → [1, 2, 3, 4]\n",
    "for x in range(1, 5) > 내부적으로 반복자(iterator)를 사용함"
   ]
  },
  {
   "cell_type": "markdown",
   "id": "d03f098f",
   "metadata": {},
   "source": [
    "파이썬의 for문은 이터러블이면 모두 사용 가능\n",
    "- range(1, 5)는 내부적으로 __iter__()와 __next__()를 제공하므로 리스트처럼 반복이 가능"
   ]
  },
  {
   "cell_type": "code",
   "execution_count": null,
   "id": "34621651",
   "metadata": {},
   "outputs": [
    {
     "name": "stdout",
     "output_type": "stream",
     "text": [
      "range(1, 5)\n"
     ]
    }
   ],
   "source": [
    "#itr = list(range(1,5)) #[1, 2, 3, 4]\n",
    "itr = range(1,5) #range(1, 5)\n",
    "#itr._it\n",
    "# itr.__iter__() # 확인한다 \n",
    "print(itr)\n"
   ]
  },
  {
   "cell_type": "code",
   "execution_count": null,
   "id": "4be120f1",
   "metadata": {},
   "outputs": [
    {
     "name": "stdout",
     "output_type": "stream",
     "text": [
      "1\n",
      "2\n",
      "3\n",
      "4\n",
      "5\n"
     ]
    }
   ],
   "source": [
    "lst=[1,2,3,4,5] #range 도 이터러블(iterable) 객체이다.\n",
    "for v in lst:\n",
    "    print(v)"
   ]
  },
  {
   "cell_type": "code",
   "execution_count": 1,
   "id": "62f84cc4",
   "metadata": {},
   "outputs": [
    {
     "name": "stdout",
     "output_type": "stream",
     "text": [
      "1\n",
      "2\n",
      "3\n",
      "4\n"
     ]
    }
   ],
   "source": [
    "for value in range(1,5):\n",
    "    print(value)"
   ]
  },
  {
   "cell_type": "markdown",
   "id": "b2c8b1e4",
   "metadata": {},
   "source": [
    "for는 range가 **이터러블(iterable)**이라는 점만 필요로 하지, 리스트일 필요는 없다 "
   ]
  },
  {
   "cell_type": "code",
   "execution_count": 9,
   "id": "c2ffe6f5",
   "metadata": {},
   "outputs": [
    {
     "name": "stdout",
     "output_type": "stream",
     "text": [
      "[1, 2, 3, 4]\n"
     ]
    }
   ],
   "source": [
    "numbers=list(range(0,11)) # list() 함수는 반드시 iterable 객체를 인자로 요구\n",
    "print(numbers[1:5]) # 두번째 인수는 포함되지 않는다 "
   ]
  },
  {
   "cell_type": "markdown",
   "id": "4af3ab7f",
   "metadata": {},
   "source": [
    " 예제 2: 마지막 3개 요소 추출"
   ]
  },
  {
   "cell_type": "code",
   "execution_count": null,
   "id": "295a8407",
   "metadata": {},
   "outputs": [
    {
     "name": "stdout",
     "output_type": "stream",
     "text": [
      "[8, 9, 10]\n"
     ]
    }
   ],
   "source": [
    "print(numbers[-3:])  # [8, 9, 10] \n"
   ]
  },
  {
   "cell_type": "markdown",
   "id": "ae718054",
   "metadata": {},
   "source": [
    "예제 3: 짝수 인덱스 요소만 추출"
   ]
  },
  {
   "cell_type": "code",
   "execution_count": null,
   "id": "1e9f02df",
   "metadata": {},
   "outputs": [
    {
     "name": "stdout",
     "output_type": "stream",
     "text": [
      "[0, 1, 2, 3, 4, 5, 6, 7, 8, 9, 10]\n",
      "[0, 2, 4, 6, 8, 10]\n",
      "[10, 7, 4, 1]\n"
     ]
    }
   ],
   "source": [
    "print(numbers)\n",
    "print(numbers[::2])  # [1, 3, 5, 7, 9] #[시작:끝:step]\n",
    "print(numbers[::-3])  # [10, 7, 4, 1] #-마이너스 많이 나옴.기억하기\n"
   ]
  },
  {
   "cell_type": "markdown",
   "id": "f7ffc3da",
   "metadata": {},
   "source": [
    "예제 4: 리스트를 반으로 나누기"
   ]
  },
  {
   "cell_type": "code",
   "execution_count": null,
   "id": "0cc008df",
   "metadata": {},
   "outputs": [
    {
     "name": "stdout",
     "output_type": "stream",
     "text": [
      "왼쪽: [0, 1, 2, 3, 4]\n",
      "오른쪽: [5, 6, 7, 8, 9, 10]\n"
     ]
    }
   ],
   "source": [
    "mid = len(numbers) // 2 #정수/정수 = 정수\n",
    "left = numbers[:mid]\n",
    "right = numbers[mid:]\n",
    "print(\"왼쪽:\", left)\n",
    "print(\"오른쪽:\", right)\n"
   ]
  },
  {
   "cell_type": "markdown",
   "id": "207afdbc",
   "metadata": {},
   "source": [
    "예제 5: 리스트를 거꾸로 뒤집기 (역순)"
   ]
  },
  {
   "cell_type": "markdown",
   "id": "1af0ec86",
   "metadata": {},
   "source": [
    "sequence[start:stop:step]\n",
    "start: 시작 인덱스\n",
    "\n",
    "stop: 끝 인덱스 (불포함)\n",
    "\n",
    "step: 간격, -1이면 역순\n",
    "\n"
   ]
  },
  {
   "cell_type": "code",
   "execution_count": 5,
   "id": "9503c1d9",
   "metadata": {},
   "outputs": [
    {
     "name": "stdout",
     "output_type": "stream",
     "text": [
      "[10, 9, 8, 7, 6, 5, 4, 3, 2, 1, 0]\n"
     ]
    }
   ],
   "source": [
    "print(numbers[::-1])  # [10, 9, ..., 1]\n"
   ]
  },
  {
   "cell_type": "markdown",
   "id": "5d82cc3b",
   "metadata": {},
   "source": [
    "예제 9: 슬라이스로 전체 복사 (얕은 복사)"
   ]
  },
  {
   "cell_type": "code",
   "execution_count": 16,
   "id": "9da61fc4",
   "metadata": {},
   "outputs": [
    {
     "name": "stdout",
     "output_type": "stream",
     "text": [
      "[0, 1, 2, 3, 4, 5, 6, 7, 8, 9, 10]\n",
      "[0, 1, 2, 3, 4, 5, 6, 7, 8, 9, 10]\n",
      "[99, 1, 2, 3, 4, 5, 6, 7, 8, 9, 10]\n"
     ]
    }
   ],
   "source": [
    "numbers=list(range(0,11))\n",
    "copy = numbers[:]#numbers[:]는 **shallow copy (얕은 복사)**\n",
    "print(copy) #복사본\n",
    "copy[0] = 99 #복사한 리스트를 수정해도 원본에는 영향이 없다 > 그래서 겉보기엔 deep copy처럼 보인다 \n",
    "print(numbers)\n",
    "print(copy) \n"
   ]
  },
  {
   "cell_type": "markdown",
   "id": "f1dccaf5",
   "metadata": {},
   "source": [
    "2차원 리스트 → 내부 객체는 공유됨 (진짜 shallow copy)\n",
    "matrix[:]는 바깥 리스트만 복사하고, 내부 리스트들은 그대로 참조함\n",
    "즉, 얕은 복사(shallow copy)의 전형적인 사례"
   ]
  },
  {
   "cell_type": "code",
   "execution_count": 19,
   "id": "1de74591",
   "metadata": {},
   "outputs": [
    {
     "name": "stdout",
     "output_type": "stream",
     "text": [
      "[[1, 2], [3, 4]]\n",
      "[[1, 2], [3, 4]]\n"
     ]
    }
   ],
   "source": [
    "matrix = [[1, 2], [3, 4]]\n",
    "copy_matrix = matrix[:] #shallow copy\n",
    "#copy_matrix[0][0] = 999\n",
    "\n",
    "print(matrix)        # [[999, 2], [3, 4]] ← 원본도 바뀜!\n",
    "print(copy_matrix)   # [[999, 2], [3, 4]]\n"
   ]
  },
  {
   "cell_type": "markdown",
   "id": "45e0b071",
   "metadata": {},
   "source": [
    "matrix[:]는 바깥 리스트만 복사하고, 내부 리스트들은 그대로 참조함\n",
    "즉, 얕은 복사(shallow copy)의 전형적인 사례"
   ]
  },
  {
   "cell_type": "code",
   "execution_count": 20,
   "id": "a3a10105",
   "metadata": {},
   "outputs": [
    {
     "name": "stdout",
     "output_type": "stream",
     "text": [
      "[[1, 2], [3, 4]]\n",
      "[[-1, 2], [3, 4]]\n"
     ]
    }
   ],
   "source": [
    "import copy\n",
    "deep_copy = copy.deepcopy(matrix)\n",
    "deep_copy[0][0] = -1 \n",
    "print(matrix) \n",
    "print(deep_copy) "
   ]
  },
  {
   "cell_type": "code",
   "execution_count": null,
   "id": "9fe8042c",
   "metadata": {},
   "outputs": [
    {
     "name": "stdout",
     "output_type": "stream",
     "text": [
      "1의 제곱은 1\n",
      "1의 제곱은 1\n",
      "2의 제곱은 4\n",
      "2의 제곱은 4\n",
      "3의 제곱은 9\n",
      "3의 제곱은 9\n",
      "4의 제곱은 16\n",
      "4의 제곱은 16\n",
      "5의 제곱은 25\n",
      "5의 제곱은 25\n",
      "6의 제곱은 36\n",
      "6의 제곱은 36\n",
      "7의 제곱은 49\n",
      "7의 제곱은 49\n",
      "8의 제곱은 64\n",
      "8의 제곱은 64\n",
      "9의 제곱은 81\n",
      "9의 제곱은 81\n",
      "10의 제곱은 100\n",
      "10의 제곱은 100\n",
      "[1, 4, 9, 16, 25, 36, 49, 64, 81, 100]\n"
     ]
    }
   ],
   "source": [
    "squares=[]\n",
    "for value in range(1,11):\n",
    "    squares.append(value**2)\n",
    "    print(f\"{value}의 제곱은 {value**2}\") #f문자열  #같은값 다른형태 :1의 제곱은 1\n",
    "    print(\"{}의 제곱은 {}\".format(value, value**2))#같은값 다른형태 :1의 제곱은 1\n",
    "    # 이것을 사용하여 구구단.\n",
    "    \n",
    "print(squares)"
   ]
  },
  {
   "cell_type": "code",
   "execution_count": 24,
   "id": "c6121786",
   "metadata": {},
   "outputs": [
    {
     "name": "stdout",
     "output_type": "stream",
     "text": [
      "1x1=1\t1x2=2\t1x3=3\t1x4=4\t1x5=5\t1x6=6\t1x7=7\t1x8=8\t1x9=9\t\n",
      "2x1=2\t2x2=4\t2x3=6\t2x4=8\t2x5=10\t2x6=12\t2x7=14\t2x8=16\t2x9=18\t\n",
      "3x1=3\t3x2=6\t3x3=9\t3x4=12\t3x5=15\t3x6=18\t3x7=21\t3x8=24\t3x9=27\t\n",
      "4x1=4\t4x2=8\t4x3=12\t4x4=16\t4x5=20\t4x6=24\t4x7=28\t4x8=32\t4x9=36\t\n",
      "5x1=5\t5x2=10\t5x3=15\t5x4=20\t5x5=25\t5x6=30\t5x7=35\t5x8=40\t5x9=45\t\n",
      "6x1=6\t6x2=12\t6x3=18\t6x4=24\t6x5=30\t6x6=36\t6x7=42\t6x8=48\t6x9=54\t\n",
      "7x1=7\t7x2=14\t7x3=21\t7x4=28\t7x5=35\t7x6=42\t7x7=49\t7x8=56\t7x9=63\t\n",
      "8x1=8\t8x2=16\t8x3=24\t8x4=32\t8x5=40\t8x6=48\t8x7=56\t8x8=64\t8x9=72\t\n",
      "9x1=9\t9x2=18\t9x3=27\t9x4=36\t9x5=45\t9x6=54\t9x7=63\t9x8=72\t9x9=81\t\n"
     ]
    }
   ],
   "source": [
    "#gugudan = [[dan * n for n in range(1,10)] for dan in range(1,10)]\n",
    "#print(gugudan)\n",
    "\n",
    "for dan in range(1,10):\n",
    "    for n in range(1, 10):\n",
    "        print(f\"{dan}x{n}={dan*n}\", end='\\t')\n",
    "    print()"
   ]
  },
  {
   "cell_type": "code",
   "execution_count": 25,
   "id": "0937f10d",
   "metadata": {},
   "outputs": [
    {
     "name": "stdout",
     "output_type": "stream",
     "text": [
      "인덱스 0의 값은 1\n",
      "0 1\n",
      "인덱스 1의 값은 4\n",
      "1 4\n",
      "인덱스 2의 값은 9\n",
      "2 9\n",
      "인덱스 3의 값은 16\n",
      "3 16\n",
      "인덱스 4의 값은 25\n",
      "4 25\n",
      "인덱스 5의 값은 36\n",
      "5 36\n",
      "인덱스 6의 값은 49\n",
      "6 49\n",
      "인덱스 7의 값은 64\n",
      "7 64\n",
      "인덱스 8의 값은 81\n",
      "8 81\n",
      "인덱스 9의 값은 100\n",
      "9 100\n"
     ]
    }
   ],
   "source": [
    "for i, value in enumerate(squares):\n",
    "    print(\"인덱스 {}의 값은 {}\".format(i,value))\n",
    "    print(i,value)"
   ]
  }
 ],
 "metadata": {
  "kernelspec": {
   "display_name": "Python 3",
   "language": "python",
   "name": "python3"
  },
  "language_info": {
   "codemirror_mode": {
    "name": "ipython",
    "version": 3
   },
   "file_extension": ".py",
   "mimetype": "text/x-python",
   "name": "python",
   "nbconvert_exporter": "python",
   "pygments_lexer": "ipython3",
   "version": "3.9.13"
  }
 },
 "nbformat": 4,
 "nbformat_minor": 5
}
