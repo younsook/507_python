{
 "cells": [
  {
   "cell_type": "markdown",
   "metadata": {},
   "source": [
    "구구단 출력하기 문제\n",
    "- print(\"{}의 제곱은 {}\".format(value, value**2)) # 이 문장을 사용하여 구구단 출력하기 "
   ]
  },
  {
   "cell_type": "code",
   "execution_count": 12,
   "metadata": {},
   "outputs": [
    {
     "name": "stdout",
     "output_type": "stream",
     "text": [
      "1x1=1\t1x2=2\t1x3=3\t1x4=4\t1x5=5\t1x6=6\t1x7=7\t1x8=8\t1x9=9\t\n",
      "2x1=2\t2x2=4\t2x3=6\t2x4=8\t2x5=10\t2x6=12\t2x7=14\t2x8=16\t2x9=18\t\n",
      "3x1=3\t3x2=6\t3x3=9\t3x4=12\t3x5=15\t3x6=18\t3x7=21\t3x8=24\t3x9=27\t\n",
      "4x1=4\t4x2=8\t4x3=12\t4x4=16\t4x5=20\t4x6=24\t4x7=28\t4x8=32\t4x9=36\t\n",
      "5x1=5\t5x2=10\t5x3=15\t5x4=20\t5x5=25\t5x6=30\t5x7=35\t5x8=40\t5x9=45\t\n",
      "6x1=6\t6x2=12\t6x3=18\t6x4=24\t6x5=30\t6x6=36\t6x7=42\t6x8=48\t6x9=54\t\n",
      "7x1=7\t7x2=14\t7x3=21\t7x4=28\t7x5=35\t7x6=42\t7x7=49\t7x8=56\t7x9=63\t\n",
      "8x1=8\t8x2=16\t8x3=24\t8x4=32\t8x5=40\t8x6=48\t8x7=56\t8x8=64\t8x9=72\t\n",
      "9x1=9\t9x2=18\t9x3=27\t9x4=36\t9x5=45\t9x6=54\t9x7=63\t9x8=72\t9x9=81\t\n"
     ]
    }
   ],
   "source": [
    "for dan in range(1,10):\n",
    "    for n in range(1,10):\n",
    "        #print(\"{dan}X{n}={res}\".format(dan=dan, n=n, res=dan*n), end=\"\\t\")\n",
    "        #print(\"{0:>2} X {1:>2} = {2:>2}\".format(dan, n, dan * n), end=\"\\t\")\n",
    "          #.format()은 **전달된 값의 위치(순서)**에 따라 중괄호 {} 자리에 대응시킴. >2 는 오른정렬\n",
    "        print(\"{0}x{1}={2}\".format(dan, n, dan * n), end=\"\\t\")\n",
    "    print()"
   ]
  },
  {
   "cell_type": "markdown",
   "metadata": {},
   "source": [
    "실습과제4_1 2차원 행렬 난수 초기화 > 전치행렬 만들기 출력"
   ]
  },
  {
   "cell_type": "code",
   "execution_count": null,
   "metadata": {},
   "outputs": [],
   "source": [
    "# (3, 5) 크기의 2차원 배열 생성: 3행 5열\n",
    "rows, cols = (3, 5)\n",
    "\n",
    "# 리스트 컴프리헨션과 range()를 사용하여 2차원 배열 만들기 (for문과 다름)\n",
    "## 난수를 사용하여 2차원 배열 만들기\n",
    "print(matrix)\n",
    "\n",
    "print(\"원본 행렬:\")\n",
    "\n",
    "    \n",
    "# 전치 행렬 (행과 열을 뒤바꿈)\n",
    "print(\"\\n전치 행렬:\")\n"
   ]
  },
  {
   "cell_type": "markdown",
   "metadata": {},
   "source": [
    "실습과제4_2 2차원 행렬의 행과 열을 모두 반전 시키기 > 행을 먼저 역순으로 만든 다음에 열도 역순으로 만든다 "
   ]
  },
  {
   "cell_type": "code",
   "execution_count": null,
   "metadata": {},
   "outputs": [],
   "source": [
    "# 행을 반전시키고, 각 행의 열도 반전시키기\n",
    "reversed_matrix = []\n",
    "\n",
    "print(\"\\n행과 열이 모두 반전된 2차원 배열:\")\n",
    "for row in reversed_matrix:\n",
    "    print(row)"
   ]
  },
  {
   "cell_type": "markdown",
   "metadata": {},
   "source": [
    "리스트에 대한 사본 만들기: 슬라이싱 > 함수 매개변수 전달시에 슬라이싱으로 만드는 사본을 전달 - 기억해야 한다 \n",
    "리스트 참조변수 공유: la = lst # 같은 list를 두개의 참조변수가 공유"
   ]
  },
  {
   "cell_type": "code",
   "execution_count": 2,
   "metadata": {},
   "outputs": [
    {
     "name": "stdout",
     "output_type": "stream",
     "text": [
      "[0, 11, 2, 3, 4, 5, 6, 7, 8, 9]\n",
      "[99, 8, 7, 6, 5, 4, 3, 2, 1, 0]\n",
      "[11, 11, 2, 3, 4, 5, 6, 7, 8, 9]\n"
     ]
    }
   ],
   "source": [
    "# 리스트[start:stop:step]\n",
    "# start: 시작 인덱스 (포함)\n",
    "# stop: 끝 인덱스 (포함되지 않음)\n",
    "# step: 인덱스 증가 값 (기본값은 1)\n",
    "numbers = [0, 1, 2, 3, 4, 5, 6, 7, 8, 9]\n",
    "# 리스트를 뒤집기\n",
    "reversed_list = numbers[::-1]##함수에 매개변수 전달시에 복사본 전달한다 \n",
    "numbers[1]=11\n",
    "print(numbers)\n",
    "reversed_list[0] = 99\n",
    "print(reversed_list) ##copy - deep copy\n",
    "\n",
    "numbers2 = numbers ##shallow copy\n",
    "numbers2[0] = 11\n",
    "print(numbers)"
   ]
  },
  {
   "cell_type": "markdown",
   "metadata": {},
   "source": [
    "실습과제4_3 2차원 행렬 난수 초기화 > 각 행의 최대값, 다음 최대값, 다다음 최대값을 뽑아 새로운 행렬에 저장한 다음에 출력"
   ]
  },
  {
   "cell_type": "code",
   "execution_count": null,
   "metadata": {},
   "outputs": [],
   "source": [
    "import random\n",
    "\n",
    "# 행렬의 크기 정의 (5x7 행렬)\n",
    "rows, cols = 5, 7\n",
    "\n",
    "# 2차원 행렬을 난수로 초기화\n",
    "\n",
    "\n",
    "# 행렬 출력\n",
    "\n",
    "\n",
    "# 각 행에서 최대 값부터 3번째 큰 값까지 순서대로 행렬 만들기\n",
    "result_matrix = []\n",
    "\n",
    "for row in matrix:\n",
    "    # 행을 정렬하여 최대 값부터 작은 값으로 정렬\n",
    " \n",
    "    \n",
    "    # 최대 값부터 3번째 큰 값까지 가져오기\n",
    "  \n",
    "    \n",
    "    # 결과 행렬에 추가\n",
    "\n",
    "\n",
    "# 결과 행렬 출력\n",
    "print(\"\\n결과 행렬 (최대 값부터 3번째 큰 값까지):\")\n",
    "\n"
   ]
  },
  {
   "cell_type": "markdown",
   "metadata": {},
   "source": [
    "실습과제4_4 2차원 행렬 난수 초기화 > 각 열의 최대값, 다음 최대값, 다다음 최대값을 뽑아 새로운 행렬에 저장한 다음에 출력"
   ]
  },
  {
   "cell_type": "code",
   "execution_count": null,
   "metadata": {},
   "outputs": [],
   "source": [
    "import random\n",
    "\n",
    "# 행렬의 크기 정의 (5x7 행렬)\n",
    "rows, cols = 5, 7\n",
    "\n",
    "# 2차원 행렬을 난수로 초기화\n",
    "\n",
    "\n",
    "# 행렬 출력\n",
    "\n",
    "\n",
    "# 각 열에서 최대 값부터 3번째 큰 값까지 순서대로 행렬 만들기\n",
    "result_matrix = []\n",
    "\n",
    "for row in matrix:\n",
    "    # 행을 정렬하여 최대 값부터 작은 값으로 정렬\n",
    " \n",
    "    \n",
    "    # 최대 값부터 3번째 큰 값까지 가져오기\n",
    "  \n",
    "    \n",
    "    # 결과 행렬에 추가\n",
    "\n",
    "\n",
    "# 결과 행렬 출력\n",
    "print(\"\\n결과 행렬 (최대 값부터 3번째 큰 값까지):\")"
   ]
  },
  {
   "cell_type": "markdown",
   "metadata": {},
   "source": [
    "실습과제4_5 2차원 행렬 난수 초기화 > 두 행렬의 덧셈 결과를 새로운 행렬을 만들어 저장 > 출력"
   ]
  },
  {
   "cell_type": "code",
   "execution_count": null,
   "metadata": {},
   "outputs": [],
   "source": [
    "\n",
    "\n",
    "# 두 행렬 (5,7)을 난수를 사용하여 초기화\n",
    "matrix1 = []\n",
    "\n",
    "matrix2 = []\n",
    "\n",
    "rows = len(matrix1)\n",
    "cols = len(matrix1[0])\n",
    "\n",
    "# 결과를 저장할 행렬을 0으로 초기화\n",
    "result_add = []\n",
    "\n",
    "# 각 요소에 대해 더하기 연산 수행\n",
    "for i in range(rows):\n",
    "        for j in range(cols):\n",
    "              #for보다 list컴프리핸션으로 해보기.\n",
    "\n",
    "print(\"행렬 덧셈 결과:\")\n",
    "for row in result_add:\n",
    "    print(row)"
   ]
  },
  {
   "cell_type": "markdown",
   "metadata": {},
   "source": [
    "실습과제4_6 2차원 행렬 난수 초기화 > 두 행렬의 곱셈 결과를 새로운 행렬을 만들어 저장 > 출력"
   ]
  },
  {
   "cell_type": "code",
   "execution_count": null,
   "metadata": {},
   "outputs": [],
   "source": [
    "# 두 행렬의 곱셈\n",
    "# 행렬1 (5,7), 행렬2 (7,9)을 난수를 사용하여 초기화\n",
    "matrix1 = []\n",
    "\n",
    "matrix2 = []\n",
    "\n",
    "rows1 = len(matrix1)\n",
    "rows2 = len(matrix2)\n",
    "cols = len(matrix2[0])\n",
    "\n",
    "# 결과를 저장할 행렬을 0으로 초기화\n",
    "result_multiply = []\n",
    "\n",
    "# 각 요소에 대해 곱셈 연산 수행\n",
    "\n",
    "\n",
    "print(\"행렬 곱셈 결과:\")\n",
    "for row in result_multiply:\n",
    "    print(row)"
   ]
  }
 ],
 "metadata": {
  "kernelspec": {
   "display_name": "Python 3",
   "language": "python",
   "name": "python3"
  },
  "language_info": {
   "codemirror_mode": {
    "name": "ipython",
    "version": 3
   },
   "file_extension": ".py",
   "mimetype": "text/x-python",
   "name": "python",
   "nbconvert_exporter": "python",
   "pygments_lexer": "ipython3",
   "version": "3.9.13"
  }
 },
 "nbformat": 4,
 "nbformat_minor": 2
}
