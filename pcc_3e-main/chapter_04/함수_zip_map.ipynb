{
 "cells": [
  {
   "cell_type": "markdown",
   "metadata": {},
   "source": [
    "파이썬함수 > zip(), map() 함수 공부하기 "
   ]
  },
  {
   "cell_type": "code",
   "execution_count": 1,
   "metadata": {},
   "outputs": [
    {
     "name": "stdout",
     "output_type": "stream",
     "text": [
      "[(1, 'a'), (2, 'b'), (3, 'c')]\n"
     ]
    }
   ],
   "source": [
    "list1 = [1, 2, 3]\n",
    "list2 = ['a', 'b', 'c']\n",
    "\n",
    "zipped = zip(list1, list2)\n",
    "result = list(zipped)\n",
    "\n",
    "print(result)  # [(1, 'a'), (2, 'b'), (3, 'c')]"
   ]
  },
  {
   "cell_type": "code",
   "execution_count": null,
   "metadata": {},
   "outputs": [
    {
     "name": "stdout",
     "output_type": "stream",
     "text": [
      "<zip object at 0x0000025372053E00>\n",
      "[1, 2, 3]\n",
      "['a', 'b', 'c']\n"
     ]
    }
   ],
   "source": [
    "zipped = [(1, 'a'), (2, 'b'), (3, 'c')]\n",
    "unzipped = zip(*zipped) # *zipped는 unpacking 연산\n",
    "## 각 위치의 항목끼리 다시 묶습니다 → 열 단위로 그룹화\n",
    "print(unzipped)\n",
    "# unzipped는 zip 객체이므로 출력하면 주소만 나옴\n",
    "# list(unzipped) 또는 map(list, unzipped) 해야 결과 확인 가능\n",
    "list1, list2 = map(list, unzipped) #map(list, unzipped)는 각 튜플을 리스트로 변환\n",
    "print(list1)  # [1, 2, 3]\n",
    "print(list2)  # ['a', 'b', 'c']"
   ]
  },
  {
   "cell_type": "markdown",
   "metadata": {},
   "source": [
    "* 연산자는 파이썬에서 \"언패킹\"을 의미\n",
    "- zip(*zipped)에서 *를 사용하면 zipped의 각 튜플을 개별적인 인자로 풀어내어 zip 함수에 전달"
   ]
  },
  {
   "cell_type": "code",
   "execution_count": null,
   "metadata": {},
   "outputs": [],
   "source": [
    "zipped = [(1, 'a'), (2, 'b'), (3, 'c')]\n",
    "zip(*zipped)"
   ]
  },
  {
   "cell_type": "code",
   "execution_count": null,
   "metadata": {},
   "outputs": [],
   "source": [
    "zip((1, 'a'), (2, 'b'), (3, 'c'))\n",
    "###[(1, 2, 3), ('a', 'b', 'c')]"
   ]
  },
  {
   "cell_type": "markdown",
   "metadata": {},
   "source": [
    "파이썬의 map 함수는 주어진 함수와 iterable(예: 리스트, 튜플)의 각 요소를 결합하여 새로운 iterable을 생성하는 함수\n",
    "- iterable의 각 요소에 함수를 적용한 결과를 반환.\n",
    "result = map(function, iterable)"
   ]
  },
  {
   "cell_type": "code",
   "execution_count": null,
   "metadata": {},
   "outputs": [],
   "source": [
    "def square(x):\n",
    "    return x ** 2\n",
    "\n",
    "numbers = [1, 2, 3, 4]\n",
    "squared = map(square, numbers)\n",
    "\n",
    "print(list(squared))  # [1, 4, 9, 16]"
   ]
  },
  {
   "cell_type": "code",
   "execution_count": null,
   "metadata": {},
   "outputs": [],
   "source": [
    "numbers = [1, 2, 3, 4]\n",
    "squared = map(lambda x: x ** 2, numbers)\n",
    "\n",
    "print(list(squared))  # [1, 4, 9, 16]"
   ]
  },
  {
   "cell_type": "code",
   "execution_count": null,
   "metadata": {},
   "outputs": [],
   "source": [
    "list1 = [1, 2, 3]\n",
    "list2 = [4, 5, 6]\n",
    "\n",
    "result = map(lambda x, y: x + y, list1, list2)\n",
    "print(list(result))  # [5, 7, 9]"
   ]
  }
 ],
 "metadata": {
  "kernelspec": {
   "display_name": "Python 3",
   "language": "python",
   "name": "python3"
  },
  "language_info": {
   "codemirror_mode": {
    "name": "ipython",
    "version": 3
   },
   "file_extension": ".py",
   "mimetype": "text/x-python",
   "name": "python",
   "nbconvert_exporter": "python",
   "pygments_lexer": "ipython3",
   "version": "3.9.13"
  }
 },
 "nbformat": 4,
 "nbformat_minor": 2
}
