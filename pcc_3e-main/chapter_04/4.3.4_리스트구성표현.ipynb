{
 "cells": [
  {
   "cell_type": "markdown",
   "metadata": {},
   "source": [
    "4.3.4 list comprehension\n",
    "- 파이썬에서의 list comprehension은 **\"리스트를 구성하기 위한 문법적 표현\"**이라는 의미\n",
    "- comprehension: to contain or hold within a total scope, significance\n",
    "- 문맥상 의미: 포괄적 표현 / 축약된 구성 표현\n",
    "- \"주어진 조건이나 규칙을 바탕으로 리스트를 포괄적으로 생성하는 방법\"\n",
    "- 리스트 구성 표현이 적합한 번역임 > 조건/규칙 기반으로 리스트를 생성하는 축약 표현.\n"
   ]
  },
  {
   "cell_type": "code",
   "execution_count": null,
   "metadata": {},
   "outputs": [],
   "source": [
    "squares = [x**2 for x in range(5)]  # list comprehension\n",
    "# x**2이라는 규칙을 바탕으로 리스트를 “포괄적으로 이해하고 생성”하는 구조 : python 핵심\n",
    "#for x in range(5) : 0~4까지 포괄적으로 이해하고 생성 \n",
    "# x**2  : 규칙"
   ]
  },
  {
   "cell_type": "code",
   "execution_count": null,
   "metadata": {},
   "outputs": [
    {
     "name": "stdout",
     "output_type": "stream",
     "text": [
      "range(0, 10)\n",
      "<class 'list'>\n",
      "<class 'range'>\n"
     ]
    }
   ],
   "source": [
    "# 실습과제2_4장리스트for 문\n",
    "rng = range(10)\n",
    "print(rng)\n",
    "## range(10)은 range 객체로, 이는 0부터 9까지의 숫자를 생성하는 반복 가능한(iterable) 객체입니다.\n",
    "l = [1,2,3]\n",
    "print(type(l))\n",
    "print(type(rng))"
   ]
  },
  {
   "cell_type": "code",
   "execution_count": null,
   "metadata": {},
   "outputs": [
    {
     "name": "stdout",
     "output_type": "stream",
     "text": [
      "[[0, 1, 2, 3, 4], [5, 6, 7, 8, 9], [10, 11, 12, 13, 14]]\n",
      "2차원 배열 (3x5):\n",
      "[0, 1, 2, 3, 4]\n",
      "[5, 6, 7, 8, 9]\n",
      "[10, 11, 12, 13, 14]\n",
      "\n",
      "첫 번째 열: [0, 5, 10]\n",
      "첫 번째 행: [0, 1, 2, 3, 4]\n",
      "첫 번째 행의 앞 3개 요소: [0, 1, 2]\n"
     ]
    }
   ],
   "source": [
    "# (3, 5) 크기의 2차원 배열 생성: 3행 5열\n",
    "tup =(3,5)\n",
    "rows, cols = (tup) # unpacking(괄호를깬다) 이라고 부른다.\n",
    "rows, cols = (3, 5) #괄호를쓰면 투플이라함. (첫번째요소,두번째요소)\n",
    "\n",
    "# 리스트 컴프리헨션과 range()를 사용하여 2차원 배열 만들기\n",
    "matrix = [[i + j*cols for i in range(cols)] for j in range(rows)] #list comprehension 2번 돌려.\n",
    "print(matrix) #[[0, 1, 2, 3, 4], [5, 6, 7, 8, 9], [10, 11, 12, 13, 14]] 괄호2개 2차원\n",
    "\n",
    "# 2차원 배열 출력\n",
    "print(\"2차원 배열 (3x5):\")\n",
    "for row in matrix:\n",
    "    print(row) #[0, 1, 2, 3, 4] 괄호1개 1차원\n",
    "\n",
    "# 리스트 슬라이싱: 첫 번째 열만 출력\n",
    "first_column = [row[0] for row in matrix]\n",
    "print(\"\\n첫 번째 열:\", first_column)\n",
    "\n",
    "# 리스트 슬라이싱: 첫 번째 행만 출력\n",
    "first_row = matrix[0]\n",
    "print(\"첫 번째 행:\", first_row)\n",
    "\n",
    "# 리스트 슬라이싱: 첫 번째 행의 앞 3개 요소만 슬라이싱\n",
    "first_row_sliced = first_row[:3]\n",
    "print(\"첫 번째 행의 앞 3개 요소:\", first_row_sliced)"
   ]
  },
  {
   "cell_type": "code",
   "execution_count": null,
   "metadata": {},
   "outputs": [
    {
     "name": "stdout",
     "output_type": "stream",
     "text": [
      "[0, 1, 2, 3, 4, 5, 6, 7, 8, 9, 10]\n",
      "[99, 9, 8, 7, 6, 5, 4, 3, 2, 1, 0]\n",
      "[0, 1, 2, 3, 4, 5, 6, 7, 8, 9, 10]\n",
      "[11, 1, 2, 3, 4, 5, 6, 7, 8, 9, 10]\n"
     ]
    }
   ],
   "source": [
    "# 리스트[start:stop:step]\n",
    "# start: 시작 인덱스 (포함)\n",
    "# stop: 끝 인덱스 (포함되지 않음)\n",
    "# step: 인덱스 증가 값 (기본값은 1), -값이면 반대 방향\n",
    "numbers = list(range(11))\n",
    "print(numbers)\n",
    "# 리스트를 뒤집기\n",
    "reversed_list = numbers[::-1] #슬라이스 결과는 사본=copy\n",
    "reversed_list[0] = 99 #사본에 변경\n",
    "print(reversed_list)\n",
    "print(numbers)\n",
    "numbers2 = numbers #참조변수가 numbers를 가르키는것. #참조변수가 같은 리스트를 가리킨다\n",
    "numbers2[0] = 11\n",
    "print(numbers)"
   ]
  },
  {
   "cell_type": "code",
   "execution_count": 5,
   "metadata": {},
   "outputs": [
    {
     "name": "stdout",
     "output_type": "stream",
     "text": [
      "[[1, 2, 3, 4, 5, 6, 7, 8], [9, 10, 11, 12, 13, 14, 15, 16], [17, 18, 19, 20, 21, 22, 23, 24], [25, 26, 27, 28, 29, 30, 31, 32], [33, 34, 35, 36, 37, 38, 39, 40]]\n"
     ]
    }
   ],
   "source": [
    "array = [[] for i in range(5)]  \n",
    "for i in range(5):  \n",
    "    for j in range(1, 9):  \n",
    "        array[i].append(j+8*i)  \n",
    "\n",
    "print(array)"
   ]
  },
  {
   "cell_type": "code",
   "execution_count": null,
   "metadata": {},
   "outputs": [],
   "source": [
    "import random\n",
    "\n",
    "# 행렬의 크기 정의 (5x7 행렬)\n",
    "rows, cols = 5, 7\n",
    "\n",
    "# 2차원 행렬을 난수로 초기화\n",
    "matrix = [[random.randint(0, 100) for _ in range(cols)] for _ in range(rows)]\n",
    "\n",
    "# 행렬 출력\n",
    "print(\"원본 행렬:\")\n",
    "for row in matrix:\n",
    "    print(row) #matrix 는 옆으로 쭉 출력, row는 한줄한줄 다음줄로 출력\n",
    "\n",
    "# 각 행에서 최대 값부터 3번째 큰 값까지 순서대로 행렬 만들기\n",
    "result_matrix = []\n",
    "\n",
    "for row in matrix:\n",
    "    # 행을 정렬하여 최대 값부터 작은 값으로 정렬\n",
    "    sorted_row = sorted(row, reverse=True) #내림차순 #올림차순 sorted(row)\n",
    "    \n",
    "    # 최대 값부터 3번째 큰 값까지 가져오기\n",
    "    top_three = sorted_row[:3]\n",
    "    \n",
    "    # 3개 값이 아닌 경우 None으로 채우기\n",
    "    while len(top_three) < 3:\n",
    "        top_three.append(None)\n",
    "    \n",
    "    # 결과 행렬에 추가\n",
    "    result_matrix.append(top_three)\n",
    "\n",
    "# 결과 행렬 출력\n",
    "print(\"\\n결과 행렬 (최대 값부터 3번째 큰 값까지):\")\n",
    "for row in result_matrix:\n",
    "    print(row)\n"
   ]
  },
  {
   "cell_type": "code",
   "execution_count": null,
   "metadata": {},
   "outputs": [
    {
     "name": "stdout",
     "output_type": "stream",
     "text": [
      "[70, 40, 25]\n",
      "[80, 50, 35]\n",
      "[90, 60, 45]\n"
     ]
    }
   ],
   "source": [
    "# 예시 2차원 행렬\n",
    "matrix = [\n",
    "    [10, 20, 30],\n",
    "    [40, 50, 60],\n",
    "    [70, 80, 90],\n",
    "    [25, 35, 45],\n",
    "    [5, 15, 25]\n",
    "]\n",
    "\n",
    "# 각 열의 최대값 3개를 뽑는 list comprehension\n",
    "result_matrix = [sorted([row[col_idx] for row in matrix], \n",
    "                        reverse=True)[:3] for col_idx in range(len(matrix[0]))] #행len(matrix[0]) 열len(matrix)\n",
    "#col_idx=0, row[0]첫번째 열, row는 행\n",
    "# reverse=True)[:3] 내림차순의 상위3개\n",
    "\n",
    "# 열을 행으로 변환 (list comprehension을 다시 사용)\n",
    "result_matrix = [list(row) for row in zip(*result_matrix)]\n",
    "\n",
    "# 결과 출력\n",
    "for row in result_matrix:\n",
    "    print(row)"
   ]
  },
  {
   "cell_type": "code",
   "execution_count": 13,
   "metadata": {},
   "outputs": [
    {
     "name": "stdout",
     "output_type": "stream",
     "text": [
      "1x1=1\t1x2=2\t1x3=3\t1x4=4\t1x5=5\t1x6=6\t1x7=7\t1x8=8\t1x9=9\t\n",
      "2x1=2\t2x2=4\t2x3=6\t2x4=8\t2x5=10\t2x6=12\t2x7=14\t2x8=16\t2x9=18\t\n",
      "3x1=3\t3x2=6\t3x3=9\t3x4=12\t3x5=15\t3x6=18\t3x7=21\t3x8=24\t3x9=27\t\n",
      "4x1=4\t4x2=8\t4x3=12\t4x4=16\t4x5=20\t4x6=24\t4x7=28\t4x8=32\t4x9=36\t\n",
      "5x1=5\t5x2=10\t5x3=15\t5x4=20\t5x5=25\t5x6=30\t5x7=35\t5x8=40\t5x9=45\t\n",
      "6x1=6\t6x2=12\t6x3=18\t6x4=24\t6x5=30\t6x6=36\t6x7=42\t6x8=48\t6x9=54\t\n",
      "7x1=7\t7x2=14\t7x3=21\t7x4=28\t7x5=35\t7x6=42\t7x7=49\t7x8=56\t7x9=63\t\n",
      "8x1=8\t8x2=16\t8x3=24\t8x4=32\t8x5=40\t8x6=48\t8x7=56\t8x8=64\t8x9=72\t\n",
      "9x1=9\t9x2=18\t9x3=27\t9x4=36\t9x5=45\t9x6=54\t9x7=63\t9x8=72\t9x9=81\t\n"
     ]
    }
   ],
   "source": [
    "for dan in range(1,10):\n",
    "    for n in range(1, 10):\n",
    "        print(f\"{dan}x{n}={dan*n}\", end='\\t')\n",
    "    print()"
   ]
  },
  {
   "cell_type": "code",
   "execution_count": 20,
   "metadata": {},
   "outputs": [
    {
     "name": "stdout",
     "output_type": "stream",
     "text": [
      "2x1=2\t2x2=4\t2x3=6\t2x4=8\t2x5=10\t2x6=12\t2x7=14\t2x8=16\t2x9=18\t\n",
      "3x1=3\t3x2=6\t3x3=9\t3x4=12\t3x5=15\t3x6=18\t3x7=21\t3x8=24\t3x9=27\t\n",
      "4x1=4\t4x2=8\t4x3=12\t4x4=16\t4x5=20\t4x6=24\t4x7=28\t4x8=32\t4x9=36\t\n",
      "5x1=5\t5x2=10\t5x3=15\t5x4=20\t5x5=25\t5x6=30\t5x7=35\t5x8=40\t5x9=45\t\n",
      "6x1=6\t6x2=12\t6x3=18\t6x4=24\t6x5=30\t6x6=36\t6x7=42\t6x8=48\t6x9=54\t\n",
      "7x1=7\t7x2=14\t7x3=21\t7x4=28\t7x5=35\t7x6=42\t7x7=49\t7x8=56\t7x9=63\t\n",
      "8x1=8\t8x2=16\t8x3=24\t8x4=32\t8x5=40\t8x6=48\t8x7=56\t8x8=64\t8x9=72\t\n",
      "9x1=9\t9x2=18\t9x3=27\t9x4=36\t9x5=45\t9x6=54\t9x7=63\t9x8=72\t9x9=81\t\n"
     ]
    }
   ],
   "source": [
    "gugudan = [[dan * n for n in range(1,10)] for dan in range(2,10)] #1부터 시작해서 10보다 작은 수까지 반복\n",
    "#print(gugudan)\n",
    "\n",
    "for dan in range(2, 10):                 # 단: 2 ~ 9\n",
    "    for n in range(1, 10):               # 곱하는 수: 1 ~ 9\n",
    "        print(f\"{dan}x{n}={gugudan[dan-2][n-1]}\", end='\\t')\n",
    "    print()\n"
   ]
  },
  {
   "cell_type": "markdown",
   "metadata": {},
   "source": [
    "if 문이 포함된 list comprehension"
   ]
  },
  {
   "cell_type": "code",
   "execution_count": null,
   "metadata": {},
   "outputs": [
    {
     "name": "stdout",
     "output_type": "stream",
     "text": [
      "[0, 2, 4, 6, 8, 10]\n",
      "[0, 0, 2, 0, 4, 0, 6, 0, 8, 0, 10]\n"
     ]
    }
   ],
   "source": [
    "numbers = list(range(11))\n",
    "lst = [n for n in numbers if n%2 == 0] #if 짝수이면 n에 포함한다.\n",
    "print(lst)\n",
    "lst2 = [n if n%2 == 0 else 0 for n in numbers]\n",
    "# if n%2 == 0 짝수이면 n else 면 0 #3항연산자와 비슷 n%2==0>n:0\n",
    "print(lst2)"
   ]
  },
  {
   "cell_type": "code",
   "execution_count": null,
   "metadata": {},
   "outputs": [
    {
     "name": "stdout",
     "output_type": "stream",
     "text": [
      "['happy', 'birthday']\n"
     ]
    }
   ],
   "source": [
    "words = [\"good\",\"nice\", \"the\", \"happy\", \"birthday\"]\n",
    "long_word = [w for w in words if len(w) >= 5] #w in words 의 len 길이가 5이상이면 w에 포함.\n",
    "print(long_word)"
   ]
  }
 ],
 "metadata": {
  "kernelspec": {
   "display_name": "Python 3",
   "language": "python",
   "name": "python3"
  },
  "language_info": {
   "codemirror_mode": {
    "name": "ipython",
    "version": 3
   },
   "file_extension": ".py",
   "mimetype": "text/x-python",
   "name": "python",
   "nbconvert_exporter": "python",
   "pygments_lexer": "ipython3",
   "version": "3.9.13"
  }
 },
 "nbformat": 4,
 "nbformat_minor": 2
}
