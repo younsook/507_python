{
 "cells": [
  {
   "cell_type": "code",
   "execution_count": 3,
   "id": "db0eea5a",
   "metadata": {},
   "outputs": [
    {
     "name": "stdout",
     "output_type": "stream",
     "text": [
      "hello good day\n"
     ]
    }
   ],
   "source": [
    "# 변수 실행시 오류\n",
    "msg=\"hello good day\" #주석\n",
    "print(msg)"
   ]
  },
  {
   "cell_type": "code",
   "execution_count": 8,
   "id": "b1adfbb8",
   "metadata": {},
   "outputs": [],
   "source": [
    "num=12\n",
    "#num. #num는 참조 변수"
   ]
  },
  {
   "cell_type": "code",
   "execution_count": 11,
   "id": "6152faa5",
   "metadata": {},
   "outputs": [
    {
     "name": "stdout",
     "output_type": "stream",
     "text": [
      "Good Morning\n",
      "Good morning\n",
      "Nice work\n",
      "Nice work\n"
     ]
    }
   ],
   "source": [
    "greeting='good morning' #greeting 도 변수 > 참조 변수\n",
    "greet_work=\"nice work\"\n",
    "print(greeting.title())\n",
    "greeting.capitalize()\n",
    "s1 = greeting.capitalize()\n",
    "s2 = greet_work.capitalize()\n",
    "print(s1)\n",
    "print(s2)\n",
    "print(num)"
   ]
  },
  {
   "cell_type": "code",
   "execution_count": null,
   "id": "0491d20f",
   "metadata": {},
   "outputs": [
    {
     "name": "stdout",
     "output_type": "stream",
     "text": [
      "Nice work\n"
     ]
    }
   ],
   "source": [
    "#num.bit_length\n",
    "num = s2\n",
    "print(num)\n",
    "#num."
   ]
  },
  {
   "cell_type": "markdown",
   "id": "0ddc5352",
   "metadata": {},
   "source": [
    "Markdown : print 문 실행시에 오류가 나는 print trace"
   ]
  },
  {
   "cell_type": "code",
   "execution_count": 4,
   "id": "e16aa2b7",
   "metadata": {},
   "outputs": [
    {
     "name": "stdout",
     "output_type": "stream",
     "text": [
      "hello world hello good day\n"
     ]
    }
   ],
   "source": [
    "print(\"hello world\", msg)"
   ]
  },
  {
   "cell_type": "code",
   "execution_count": null,
   "id": "1ef49403",
   "metadata": {},
   "outputs": [
    {
     "name": "stdout",
     "output_type": "stream",
     "text": [
      "hong -> gil dong\n",
      "Hong -> Gil Dong\n"
     ]
    }
   ],
   "source": [
    "# f-문자열 - 자주사용\n",
    "last_name = \"hong\"\n",
    "first_name = 'gil dong'\n",
    "full_name = f\"{last_name} -> {first_name}\" #f는 format,  문자열은 \"\"안에, 변수명은 {}안에\n",
    "print(full_name)\n",
    "print(full_name.title()) #첫글자를 대문자로 바꿔줌."
   ]
  },
  {
   "cell_type": "code",
   "execution_count": 17,
   "id": "2af11e9d",
   "metadata": {},
   "outputs": [
    {
     "name": "stdout",
     "output_type": "stream",
     "text": [
      "문자열\n",
      " 실습:\thong\n"
     ]
    }
   ],
   "source": [
    "print(f\"문자열\\n 실습:\\t{last_name}\") #f문자열 연습많이하기."
   ]
  },
  {
   "cell_type": "code",
   "execution_count": 18,
   "id": "057575b6",
   "metadata": {},
   "outputs": [
    {
     "name": "stdout",
     "output_type": "stream",
     "text": [
      "['12', '44', '66', '123', '243']\n",
      "정렬된 문자열 배열: ['12', '123', '243', '44', '66']\n"
     ]
    }
   ],
   "source": [
    "num = \" 12 44 66   123 243 \"\n",
    "\n",
    "# 1. 문자열을 공백 기준으로 분리 (앞뒤 공백 제거 후)\n",
    "str_list = num.strip().split()\n",
    "print(str_list)\n",
    "\n",
    "# 2. 문자열 배열을 정렬 (문자열 기준으로 정렬됨)\n",
    "str_list.sort()\n",
    "\n",
    "# 3. 출력\n",
    "print(\"정렬된 문자열 배열:\", str_list)\n"
   ]
  },
  {
   "cell_type": "code",
   "execution_count": null,
   "id": "8d4af506",
   "metadata": {},
   "outputs": [
    {
     "name": "stdout",
     "output_type": "stream",
     "text": [
      "***  12 44 66   123 243  ***\n",
      "*** 12 44 66   123 243 ***\n",
      "*** ['12', '44', '66', '123', '243'] ***\n"
     ]
    }
   ],
   "source": [
    "print(\"***\",num,\"***\")\n",
    "print(\"***\",num.strip(),\"***\") #rstrip 오른쪽 공백 없애기\n",
    "print(\"***\",num.split(),\"***\") #split []대괄호 출력으로 리스트 출력"
   ]
  },
  {
   "cell_type": "code",
   "execution_count": 26,
   "id": "023343bf",
   "metadata": {},
   "outputs": [
    {
     "name": "stdout",
     "output_type": "stream",
     "text": [
      "정렬된 정수 리스트: [12, 44, 66, 123, 243]\n"
     ]
    }
   ],
   "source": [
    "num = \" 12 44 66 123 243\"\n",
    "\n",
    "# 1. 문자열 앞뒤 공백 제거 후 공백 기준 분리\n",
    "str_list = num.strip().split()\n",
    "\n",
    "# 2. 각 문자열 요소를 정수로 변환\n",
    "#확장형 for문\n",
    "int_list = [int(s) for s in str_list] #4장에서 공부 # str_list에 있는 s를 int_list로 바꿔라. python 한줄코딩많음. \n",
    "                                        # 기본데이터타입 list , 숫자들의 list\n",
    "\n",
    "# 3. 정수 리스트 정렬\n",
    "int_list.sort()\n",
    "\n",
    "# 4. 출력\n",
    "print(\"정렬된 정수 리스트:\", int_list)\n"
   ]
  },
  {
   "cell_type": "code",
   "execution_count": 9,
   "id": "01486b8c",
   "metadata": {},
   "outputs": [
    {
     "data": {
      "text/plain": [
       "0.2"
      ]
     },
     "execution_count": 9,
     "metadata": {},
     "output_type": "execute_result"
    }
   ],
   "source": [
    "2*0.1"
   ]
  },
  {
   "cell_type": "code",
   "execution_count": 10,
   "id": "c0a3138e",
   "metadata": {},
   "outputs": [
    {
     "data": {
      "text/plain": [
       "0.30000000000000004"
      ]
     },
     "execution_count": 10,
     "metadata": {},
     "output_type": "execute_result"
    }
   ],
   "source": [
    "0.2+0.1"
   ]
  },
  {
   "cell_type": "code",
   "execution_count": 27,
   "id": "7083db7c",
   "metadata": {},
   "outputs": [
    {
     "data": {
      "text/plain": [
       "0.6"
      ]
     },
     "execution_count": 27,
     "metadata": {},
     "output_type": "execute_result"
    }
   ],
   "source": [
    "0.3+0.3"
   ]
  },
  {
   "cell_type": "code",
   "execution_count": 11,
   "id": "b6534b63",
   "metadata": {},
   "outputs": [
    {
     "data": {
      "text/plain": [
       "0.30000000000000004"
      ]
     },
     "execution_count": 11,
     "metadata": {},
     "output_type": "execute_result"
    }
   ],
   "source": [
    "3*0.1"
   ]
  },
  {
   "cell_type": "code",
   "execution_count": 12,
   "id": "c6a24897",
   "metadata": {},
   "outputs": [
    {
     "data": {
      "text/plain": [
       "0.3"
      ]
     },
     "execution_count": 12,
     "metadata": {},
     "output_type": "execute_result"
    }
   ],
   "source": [
    "0.3"
   ]
  },
  {
   "cell_type": "code",
   "execution_count": 13,
   "id": "369df781",
   "metadata": {},
   "outputs": [
    {
     "name": "stdout",
     "output_type": "stream",
     "text": [
      "False\n"
     ]
    }
   ],
   "source": [
    "print(0.3 == 0.1 + 0.2)\n"
   ]
  },
  {
   "cell_type": "code",
   "execution_count": null,
   "id": "542e287f",
   "metadata": {},
   "outputs": [
    {
     "name": "stdout",
     "output_type": "stream",
     "text": [
      "True\n"
     ]
    }
   ],
   "source": [
    "import math\n",
    "\n",
    "print(math.isclose(0.1 + 0.2, 0.3))  # True #isclose 저 뒤에 오차는 무시.\n"
   ]
  },
  {
   "cell_type": "code",
   "execution_count": 15,
   "id": "bac28d3a",
   "metadata": {},
   "outputs": [
    {
     "name": "stdout",
     "output_type": "stream",
     "text": [
      "0.8999999999999999\n"
     ]
    }
   ],
   "source": [
    "print(0.3*3)"
   ]
  },
  {
   "cell_type": "markdown",
   "id": "6c93ca53",
   "metadata": {},
   "source": [
    "부동소수점(floating point) 오차 때문이다.\n",
    "- 파이썬(및 대부분의 언어)은 이진수 기반의 IEEE 754 방식으로 실수를 저장 > 일부 소수는 정확하게 표현 못함"
   ]
  },
  {
   "cell_type": "code",
   "execution_count": null,
   "id": "1218912e",
   "metadata": {},
   "outputs": [
    {
     "name": "stdout",
     "output_type": "stream",
     "text": [
      "1000000000\n"
     ]
    }
   ],
   "source": [
    "sum = 1_000_000_000 # 개발자가 코딩할때 숫자 표기 , 결과는 1000000000\n",
    "print(sum)"
   ]
  },
  {
   "cell_type": "code",
   "execution_count": 41,
   "id": "4f1121b6",
   "metadata": {},
   "outputs": [
    {
     "name": "stdout",
     "output_type": "stream",
     "text": [
      "1 2 3\n"
     ]
    }
   ],
   "source": [
    "x,y,z=1,2,3 # 다중 할당이고 자주 사용\n",
    "print(x,y,z)"
   ]
  },
  {
   "cell_type": "code",
   "execution_count": 42,
   "id": "3f5e2eb1",
   "metadata": {},
   "outputs": [
    {
     "name": "stdout",
     "output_type": "stream",
     "text": [
      "3 1 2\n"
     ]
    }
   ],
   "source": [
    "x,y,z = z,x,y #다중할당, 맞교환, swap 기능 2개 3개 4개 모두가능\n",
    "print(x,y,z)"
   ]
  },
  {
   "cell_type": "code",
   "execution_count": 18,
   "id": "33aca54a",
   "metadata": {},
   "outputs": [
    {
     "name": "stdout",
     "output_type": "stream",
     "text": [
      "The Zen of Python, by Tim Peters\n",
      "\n",
      "Beautiful is better than ugly.\n",
      "Explicit is better than implicit.\n",
      "Simple is better than complex.\n",
      "Complex is better than complicated.\n",
      "Flat is better than nested.\n",
      "Sparse is better than dense.\n",
      "Readability counts.\n",
      "Special cases aren't special enough to break the rules.\n",
      "Although practicality beats purity.\n",
      "Errors should never pass silently.\n",
      "Unless explicitly silenced.\n",
      "In the face of ambiguity, refuse the temptation to guess.\n",
      "There should be one-- and preferably only one --obvious way to do it.\n",
      "Although that way may not be obvious at first unless you're Dutch.\n",
      "Now is better than never.\n",
      "Although never is often better than *right* now.\n",
      "If the implementation is hard to explain, it's a bad idea.\n",
      "If the implementation is easy to explain, it may be a good idea.\n",
      "Namespaces are one honking great idea -- let's do more of those!\n"
     ]
    }
   ],
   "source": [
    "import this"
   ]
  }
 ],
 "metadata": {
  "kernelspec": {
   "display_name": "Python 3",
   "language": "python",
   "name": "python3"
  },
  "language_info": {
   "codemirror_mode": {
    "name": "ipython",
    "version": 3
   },
   "file_extension": ".py",
   "mimetype": "text/x-python",
   "name": "python",
   "nbconvert_exporter": "python",
   "pygments_lexer": "ipython3",
   "version": "3.9.13"
  }
 },
 "nbformat": 4,
 "nbformat_minor": 5
}
