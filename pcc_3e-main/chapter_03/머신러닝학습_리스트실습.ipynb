{
 "cells": [
  {
   "cell_type": "markdown",
   "id": "eef9f648",
   "metadata": {},
   "source": [
    "머신러닝을 학습하기 위해 반드시 익혀야 할 파이썬 리스트(list)의 주요 기능\n",
    "- 데이터 전처리, 피처 구성, 모델 입력 등에서 매우 자주 사용"
   ]
  },
  {
   "cell_type": "markdown",
   "id": "fb6d1912",
   "metadata": {},
   "source": [
    "1. 리스트 생성 및 초기화"
   ]
  },
  {
   "cell_type": "code",
   "execution_count": null,
   "id": "a3e72541",
   "metadata": {
    "vscode": {
     "languageId": "plaintext"
    }
   },
   "outputs": [],
   "source": [
    "lst = [1, 2, 3, 4]\n",
    "empty = []\n",
    "zeros = [0] * 5         # [0, 0, 0, 0, 0]\n"
   ]
  },
  {
   "cell_type": "markdown",
   "id": "7bda0266",
   "metadata": {},
   "source": [
    " 2. 인덱싱과 슬라이싱 (데이터 추출)\n",
    " - 데이터 분할 (훈련/검증/테스트)"
   ]
  },
  {
   "cell_type": "code",
   "execution_count": null,
   "id": "4ab0330e",
   "metadata": {
    "vscode": {
     "languageId": "plaintext"
    }
   },
   "outputs": [],
   "source": [
    "print(lst[0])       # 1\n",
    "print(lst[-1])      # 4 (뒤에서 첫 번째)\n",
    "print(lst[1:3])     # [2, 3] - slicing 중간에 뽑아내기.\n"
   ]
  },
  {
   "cell_type": "markdown",
   "id": "412234d5",
   "metadata": {},
   "source": [
    "3. 리스트 길이 확인"
   ]
  },
  {
   "cell_type": "code",
   "execution_count": null,
   "id": "6ca0a21b",
   "metadata": {
    "vscode": {
     "languageId": "plaintext"
    }
   },
   "outputs": [],
   "source": [
    "len(lst)            # 4\n"
   ]
  },
  {
   "cell_type": "markdown",
   "id": "da61694a",
   "metadata": {},
   "source": [
    "4. 리스트 수정 및 추가"
   ]
  },
  {
   "cell_type": "code",
   "execution_count": null,
   "id": "faa4ec3f",
   "metadata": {
    "vscode": {
     "languageId": "plaintext"
    }
   },
   "outputs": [],
   "source": [
    "lst[1] = 20         # 수정\n",
    "lst.append(5)       # 맨 뒤에 추가\n",
    "lst.insert(2, 99)   # 2번 위치에 99 삽입\n"
   ]
  },
  {
   "cell_type": "markdown",
   "id": "866e16eb",
   "metadata": {},
   "source": [
    "5. 리스트 삭제"
   ]
  },
  {
   "cell_type": "code",
   "execution_count": null,
   "id": "c33e76be",
   "metadata": {
    "vscode": {
     "languageId": "plaintext"
    }
   },
   "outputs": [],
   "source": [
    "del lst[2]          # 인덱스로 삭제\n",
    "x = lst.pop()       # 마지막 요소 꺼내기\n",
    "lst.remove(20)      # 값으로 삭제\n"
   ]
  },
  {
   "cell_type": "markdown",
   "id": "a3c72ca7",
   "metadata": {},
   "source": [
    "6. 리스트 반복 처리"
   ]
  },
  {
   "cell_type": "code",
   "execution_count": null,
   "id": "7df5891a",
   "metadata": {
    "vscode": {
     "languageId": "plaintext"
    }
   },
   "outputs": [],
   "source": [
    "for item in lst:\n",
    "    print(item)\n"
   ]
  },
  {
   "cell_type": "code",
   "execution_count": null,
   "id": "7fb2a4f6",
   "metadata": {
    "vscode": {
     "languageId": "plaintext"
    }
   },
   "outputs": [],
   "source": [
    "for i, val in enumerate(lst):\n",
    "    print(i, val)\n"
   ]
  },
  {
   "cell_type": "markdown",
   "id": "aed90b67",
   "metadata": {},
   "source": [
    "7. 리스트 정렬 및 역순"
   ]
  },
  {
   "cell_type": "code",
   "execution_count": null,
   "id": "dedfbda6",
   "metadata": {
    "vscode": {
     "languageId": "plaintext"
    }
   },
   "outputs": [],
   "source": [
    "lst.sort()                  # 오름차순 정렬 > 정렬된 피처\n",
    "lst.sort(reverse=True)      # 내림차순 정렬\n",
    "lst.reverse()               # 현재 순서 뒤집기\n"
   ]
  },
  {
   "cell_type": "markdown",
   "id": "36871115",
   "metadata": {},
   "source": [
    "8. 리스트 내포 (List Comprehension)   \n",
    "- 특성 추출, 전처리 간결화\n",
    "- Comprehend 뜻: 첫번째 두번째 구분하지않고 모든 요소를 포괄적인(종합적인)\n",
    "- 이해하기 : [x**2 for x in range(5)]  숙달하기목표"
   ]
  },
  {
   "cell_type": "code",
   "execution_count": null,
   "id": "0bbcfe40",
   "metadata": {
    "vscode": {
     "languageId": "plaintext"
    }
   },
   "outputs": [],
   "source": [
    "squares = [x**2 for x in range(5)]      # [0, 1, 4, 9, 16]\n",
    "evens = [x for x in lst if x % 2 == 0]  # 짝수만 필터링\n"
   ]
  },
  {
   "cell_type": "markdown",
   "id": "0c3eadf6",
   "metadata": {},
   "source": [
    "9. 리스트 합치기 / 반복"
   ]
  },
  {
   "cell_type": "code",
   "execution_count": null,
   "id": "af787f3a",
   "metadata": {
    "vscode": {
     "languageId": "plaintext"
    }
   },
   "outputs": [],
   "source": [
    "a = [1, 2]\n",
    "b = [3, 4]\n",
    "c = a + b               # [1, 2, 3, 4]\n",
    "d = a * 3               # [1, 2, 1, 2, 1, 2]\n"
   ]
  },
  {
   "cell_type": "markdown",
   "id": "0bf89543",
   "metadata": {},
   "source": [
    " 10. 리스트와 zip, map, filter\n",
    " - 이상치 제거"
   ]
  },
  {
   "cell_type": "code",
   "execution_count": null,
   "id": "0224e9ae",
   "metadata": {
    "vscode": {
     "languageId": "plaintext"
    }
   },
   "outputs": [],
   "source": [
    "a = [1, 2, 3]\n",
    "b = [4, 5, 6]\n",
    "z = list(zip(a, b))         # [(1,4), (2,5), (3,6)]\n",
    "\n",
    "# map: 모든 요소에 함수 적용\n",
    "doubled = list(map(lambda x: x*2, a))   # [2, 4, 6]\n",
    "\n",
    "# filter: 조건 만족하는 요소만\n",
    "filtered = list(filter(lambda x: x > 1, a))  # [2, 3]\n"
   ]
  }
 ],
 "metadata": {
  "language_info": {
   "name": "python"
  }
 },
 "nbformat": 4,
 "nbformat_minor": 5
}
