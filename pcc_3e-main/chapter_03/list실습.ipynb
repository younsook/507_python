{
 "cells": [
  {
   "cell_type": "code",
   "execution_count": 27,
   "id": "1a97b511",
   "metadata": {},
   "outputs": [
    {
     "name": "stdout",
     "output_type": "stream",
     "text": [
      "['trek', 'cannon', 'red', 'special']\n"
     ]
    }
   ],
   "source": [
    "bicycles = ['trek', 'cannon', 'red', 'special']\n",
    "print(bicycles)"
   ]
  },
  {
   "cell_type": "code",
   "execution_count": 14,
   "id": "6dc7aa47",
   "metadata": {},
   "outputs": [
    {
     "name": "stdout",
     "output_type": "stream",
     "text": [
      "[0, 0, 0, 0, 0, 0, 0, 0, 0, 0]\n"
     ]
    }
   ],
   "source": [
    "zeros = [0]*10\n",
    "print(zeros)"
   ]
  },
  {
   "cell_type": "code",
   "execution_count": 15,
   "id": "9dd040e1",
   "metadata": {},
   "outputs": [
    {
     "name": "stdout",
     "output_type": "stream",
     "text": [
      "['cannon', 'red']\n",
      "['cannon', 'red']\n",
      "['cannon']\n"
     ]
    }
   ],
   "source": [
    "print(bicycles[1:3]) # 1시작 3 앞에있는것까지 출력.\n",
    "print(bicycles[1:-1]) # 표기법 숙달해야\n",
    "\n",
    "print(bicycles[1:2]) "
   ]
  },
  {
   "cell_type": "code",
   "execution_count": null,
   "id": "2e8f6ac8",
   "metadata": {},
   "outputs": [
    {
     "name": "stdout",
     "output_type": "stream",
     "text": [
      "['trek', 'cannon', 'red', 'special']\n",
      "['trek']\n",
      "special\n"
     ]
    }
   ],
   "source": [
    "bicycles = ['trek', 'cannon', 'red', 'special']\n",
    "print(bicycles)\n",
    "        #bicycles[0]= '삼천리' #변경\n",
    "        #bicycles.append('산악자전거') #append 뒤에 붙음\n",
    "        #bicycles.insert(1,'현대')\n",
    "del bicycles[1] #1이 현대 #del은 인덱스 사용\n",
    "bike = bicycles.pop() #마지막 삭제\n",
    "bicycles.remove('red') #값으로 삭제\n",
    "print(bicycles)\n",
    "print(bike) #삭제한 값을 볼수있다."
   ]
  },
  {
   "cell_type": "code",
   "execution_count": 40,
   "id": "e793d7db",
   "metadata": {},
   "outputs": [
    {
     "name": "stdout",
     "output_type": "stream",
     "text": [
      "['benz', 'k5', 'sorento', 'zenesis', 'bmw']\n",
      "['benz', 'bmw', 'k5', 'sorento', 'zenesis']\n",
      "['zenesis', 'sorento', 'k5', 'bmw', 'benz']\n"
     ]
    }
   ],
   "source": [
    "cars=['bmw', 'zenesis','sorento','k5','benz']\n",
    "cars.reverse()\n",
    "print(cars)\n",
    "#cars.sort() #list 자체를 정렬, 메소드이므로 정렬 권한 있다.\n",
    "#print(cars)\n",
    "cars.sort(reverse=True) #역순 정렬\n",
    "print(sorted(cars)) #sorted 함수, 메소드가 아니고 라이브러리 함수\n",
    "#list 자체는 정렬하지 않고 정렬된 결과만 출력\n",
    "print(cars)\n"
   ]
  },
  {
   "cell_type": "code",
   "execution_count": null,
   "id": "d4c93c6e",
   "metadata": {},
   "outputs": [
    {
     "name": "stdout",
     "output_type": "stream",
     "text": [
      "benz\n",
      "['zenesis', 'sorento']\n",
      "['zenesis', 'sorento']\n"
     ]
    }
   ],
   "source": [
    "print(cars[-1]) #(cars[4]) #-1은 마지막 요소 > 아주 편리한 데 복잡한 코딩\n",
    "print(cars[1:-2]) #-2마지막에서 두번째 요소\n",
    "print(cars[1:3])"
   ]
  },
  {
   "cell_type": "code",
   "execution_count": 44,
   "id": "b36e9a10",
   "metadata": {},
   "outputs": [
    {
     "name": "stdout",
     "output_type": "stream",
     "text": [
      "차 이름은 =zenesis\n",
      "['zenesis', 'sorento', 'k5', 'bmw', 'benz']\n",
      "차 이름은 =sorento\n",
      "['zenesis', 'sorento', 'k5', 'bmw', 'benz']\n",
      "차 이름은 =k5\n",
      "['zenesis', 'sorento', 'k5', 'bmw', 'benz']\n",
      "차 이름은 =bmw\n",
      "['zenesis', 'sorento', 'k5', 'bmw', 'benz']\n",
      "차 이름은 =benz\n",
      "['zenesis', 'sorento', 'k5', 'bmw', 'benz']\n",
      "성공적으로 종료\n"
     ]
    }
   ],
   "source": [
    "#print(cars)\n",
    "# loop block의 시작과 끝 이해하기. for부터 들여쓰기가 끝나는 곳 까지.\n",
    "for c in cars: #확장형 for문 => 자바 유사\n",
    "    print(f\"차 이름은 ={c}\")\n",
    "    print(cars)\n",
    "print(\"성공적으로 종료\")"
   ]
  },
  {
   "cell_type": "code",
   "execution_count": null,
   "id": "7cde388f",
   "metadata": {},
   "outputs": [
    {
     "name": "stdout",
     "output_type": "stream",
     "text": [
      "range(1, 6)\n",
      "1\n",
      "2\n",
      "3\n",
      "4\n",
      "5\n"
     ]
    }
   ],
   "source": [
    "lst = range(1,6) # 객체라는 것 : 1~6\n",
    "print(lst)\n",
    "for value in range(1,6):\n",
    "    print(value)"
   ]
  }
 ],
 "metadata": {
  "kernelspec": {
   "display_name": "Python 3",
   "language": "python",
   "name": "python3"
  },
  "language_info": {
   "codemirror_mode": {
    "name": "ipython",
    "version": 3
   },
   "file_extension": ".py",
   "mimetype": "text/x-python",
   "name": "python",
   "nbconvert_exporter": "python",
   "pygments_lexer": "ipython3",
   "version": "3.9.13"
  }
 },
 "nbformat": 4,
 "nbformat_minor": 5
}
