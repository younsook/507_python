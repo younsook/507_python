{
 "cells": [
  {
   "cell_type": "markdown",
   "id": "b16fd21f",
   "metadata": {},
   "source": [
    "📘 STEP 1: 리스트 + 리스트 컴프리헨션 기본\n",
    "\n",
    "\n",
    "실습 과제:\n",
    "\n",
    "1. 아래의 점수 리스트에서 60점 이상만 추출하는 코드를 리스트 comprehension 작성.\n",
    "2. 짝수 인덱스에 해당하는 점수만 출력 (슬라이싱 사용).\n",
    "3. 점수 리스트에서 **70점 이상이면 '합격', 아니면 '불합격'**으로 변환된 결과 리스트.\n",
    "\n",
    "scores = [55, 89, 76, 45, 90, 66, 72]"
   ]
  },
  {
   "cell_type": "code",
   "execution_count": 4,
   "id": "fbea14cb",
   "metadata": {},
   "outputs": [
    {
     "name": "stdout",
     "output_type": "stream",
     "text": [
      "1. 60점 이상: [89, 76, 90, 66, 72]\n",
      "2. 짝수 인덱스: [55, 76, 90, 72]\n",
      "3. 합격 여부: ['불합격', '합격', '합격', '불합격', '합격', '불합격', '합격']\n"
     ]
    }
   ],
   "source": [
    "scores = [55, 89, 76, 45, 90, 66, 72]\n",
    "\n",
    "scores60 = [scores for scores in scores if scores >=60]\n",
    "print(\"1. 60점 이상:\",scores60)\n",
    "\n",
    "index2scores = scores[::2] #짝수 인덱스 (0, 2, 4, ...)의 점수만 추출\n",
    "print(\"2. 짝수 인덱스:\",index2scores)\n",
    "\n",
    "pass_fail = ['합격' if scores >=70 else '불합격' for scores in scores]\n",
    "print(\"3. 합격 여부:\",pass_fail)"
   ]
  },
  {
   "cell_type": "markdown",
   "id": "957c3f15",
   "metadata": {},
   "source": [
    "\n",
    "📘 STEP 2: 튜플 + 리스트 컴프리헨션\n",
    "\n",
    "\n",
    "실습 과제:\n",
    "\n",
    "1. (이름, 점수) 튜플이 있는 리스트에서 80점 이상인 학생 이름만 출력.\n",
    "2. **점수가 60점 미만인 학생 이름만 '재시험 대상자'**로 출력하는 리스트.\n",
    "\n",
    "students = [(\"홍길동\", 85), (\"김유신\", 58), (\"이순신\", 76), (\"강감찬\", 45), (\"유관순\", 92)]"
   ]
  },
  {
   "cell_type": "code",
   "execution_count": null,
   "id": "17c7c631",
   "metadata": {},
   "outputs": [],
   "source": [
    "students = [(\"홍길동\", 85), (\"김유신\", 58), (\"이순신\", 76), (\"강감찬\", 45), (\"유관순\", 92)]\n",
    "\n",
    "students_name = []"
   ]
  }
 ],
 "metadata": {
  "kernelspec": {
   "display_name": "Python 3",
   "language": "python",
   "name": "python3"
  },
  "language_info": {
   "codemirror_mode": {
    "name": "ipython",
    "version": 3
   },
   "file_extension": ".py",
   "mimetype": "text/x-python",
   "name": "python",
   "nbconvert_exporter": "python",
   "pygments_lexer": "ipython3",
   "version": "3.9.13"
  }
 },
 "nbformat": 4,
 "nbformat_minor": 5
}
