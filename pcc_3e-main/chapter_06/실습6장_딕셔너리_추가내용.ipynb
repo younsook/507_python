{
 "cells": [
  {
   "cell_type": "markdown",
   "metadata": {},
   "source": [
    "파이썬의 **dictionary(딕셔너리)**는 매우 중요한 자료형으로, 데이터를 **“이름표를 붙여서 저장”*\n",
    "\n",
    "키(key)와 값(value)의 쌍(pair) 으로 데이터를 저장하는 자료형"
   ]
  },
  {
   "cell_type": "markdown",
   "metadata": {},
   "source": [
    "리스트를 포함하는 딕셔너리들의 리스트 "
   ]
  },
  {
   "cell_type": "markdown",
   "metadata": {},
   "source": [
    "enumerate 공부"
   ]
  },
  {
   "cell_type": "code",
   "execution_count": 2,
   "metadata": {},
   "outputs": [
    {
     "name": "stdout",
     "output_type": "stream",
     "text": [
      "{0: 'height', 1: 'weight', 2: 'age'}\n"
     ]
    }
   ],
   "source": [
    "#1리스트를 인덱스와 함께 딕셔너리로 변환 (enumerate 사용)\n",
    "features = [\"height\", \"weight\", \"age\"]\n",
    "feature_dict = {i: feature for i, feature in enumerate(features)}\n",
    "    #enumerate는 i, feature=인덱스, 값 = 0,값\n",
    "\n",
    "# 결과: {0: 'height', 1: 'weight', 2: 'age'}\n",
    "print(feature_dict)\n"
   ]
  },
  {
   "cell_type": "code",
   "execution_count": 1,
   "metadata": {},
   "outputs": [
    {
     "name": "stdout",
     "output_type": "stream",
     "text": [
      "{'Alice': 85, 'Charlie': 95}\n"
     ]
    }
   ],
   "source": [
    "#2 값 변환과 필터링 (조건문 포함)\n",
    "scores = {\"Alice\": 85, \"Bob\": 58, \"Charlie\": 95}\n",
    "passed = {name: score for name, score in scores.items() if score >= 60}\n",
    "\n",
    "# 결과: {'Alice': 85, 'Charlie': 95}\n",
    "print(passed)"
   ]
  },
  {
   "cell_type": "markdown",
   "metadata": {},
   "source": [
    "zip 공부"
   ]
  },
  {
   "cell_type": "code",
   "execution_count": null,
   "metadata": {},
   "outputs": [
    {
     "name": "stdout",
     "output_type": "stream",
     "text": [
      "{'a': 1, 'b': 2, 'c': 3}\n"
     ]
    }
   ],
   "source": [
    "#3두 리스트를 키-값으로 매핑\n",
    "keys = [\"a\", \"b\", \"c\"]\n",
    "values = [1, 2, 3]\n",
    "mapping = {k: v for k, v in zip(keys, values)} #dictionary comprosion\n",
    "\n",
    "# 결과: {'a': 1, 'b': 2, 'c': 3}\n",
    "print(mapping)"
   ]
  },
  {
   "cell_type": "markdown",
   "metadata": {},
   "source": [
    "응용"
   ]
  },
  {
   "cell_type": "code",
   "execution_count": 13,
   "metadata": {},
   "outputs": [
    {
     "name": "stdout",
     "output_type": "stream",
     "text": [
      "{'e': 1, 'l': 2, 'o': 1, 'h': 1}\n"
     ]
    }
   ],
   "source": [
    "#4문자열 등장 횟수 세기 (빈도 분석)\n",
    "text = \"hello\"\n",
    "char_count = {char: text.count(char) for char in set(text)}\n",
    "\n",
    "# 결과: {'h': 1, 'e': 1, 'l': 2, 'o': 1}\n",
    "print(char_count)"
   ]
  },
  {
   "cell_type": "code",
   "execution_count": 14,
   "metadata": {},
   "outputs": [
    {
     "name": "stdout",
     "output_type": "stream",
     "text": [
      "{'a': 0.1, 'b': 0.3, 'c': 0.6}\n"
     ]
    }
   ],
   "source": [
    "#5딕셔너리 값 스케일링 or 정규화\n",
    "data = {\"a\": 100, \"b\": 300, \"c\": 600}\n",
    "total = sum(data.values())\n",
    "normalized = {k: v / total for k, v in data.items()}\n",
    "\n",
    "# 결과: {'a': 0.1, 'b': 0.3, 'c': 0.6}\n",
    "print(normalized)"
   ]
  }
 ],
 "metadata": {
  "kernelspec": {
   "display_name": "Python 3",
   "language": "python",
   "name": "python3"
  },
  "language_info": {
   "codemirror_mode": {
    "name": "ipython",
    "version": 3
   },
   "file_extension": ".py",
   "mimetype": "text/x-python",
   "name": "python",
   "nbconvert_exporter": "python",
   "pygments_lexer": "ipython3",
   "version": "3.9.13"
  }
 },
 "nbformat": 4,
 "nbformat_minor": 2
}
