{
 "cells": [
  {
   "cell_type": "markdown",
   "metadata": {},
   "source": [
    "파이썬에서 set, list, tuple, dictionary는 모두 컨테이너 자료형\n",
    "- list: [1, 2, 3], list('abc')\n",
    "- tuple: (1, 2, 3), tuple('abc')\n",
    "- set: {1, 2, 3}, set('abc')\n",
    "- dict: {'a': 1, 'b': 2}"
   ]
  },
  {
   "cell_type": "code",
   "execution_count": 1,
   "metadata": {},
   "outputs": [
    {
     "name": "stdout",
     "output_type": "stream",
     "text": [
      "{'a', 'c', 'b'}\n"
     ]
    }
   ],
   "source": [
    "s = set('abc')\n",
    "print(s)"
   ]
  },
  {
   "cell_type": "code",
   "execution_count": null,
   "metadata": {},
   "outputs": [
    {
     "name": "stdout",
     "output_type": "stream",
     "text": [
      "[4, 5, 6]\n"
     ]
    }
   ],
   "source": [
    "# 기본 생성\n",
    "a = [1, 2, 3]\n",
    "b = list((4, 5, 6)) #iterable객체를 tuple로 \n",
    "c = list('abc')      # ['a', 'b', 'c']\n",
    "print(b)\n",
    "# 빈 리스트\n",
    "empty = []\n",
    "#  순서 있음, 변경 가능 (append, pop, sort 등)"
   ]
  },
  {
   "cell_type": "code",
   "execution_count": null,
   "metadata": {},
   "outputs": [
    {
     "name": "stdout",
     "output_type": "stream",
     "text": [
      "(1,)\n"
     ]
    }
   ],
   "source": [
    "# tupel 기본 생성 : tupel= ~개의 요소로 구성된것\n",
    "a = (1, 2, 3)\n",
    "b = tuple([4, 5]) # tuple() 함수는 iterable 객체를 인자로 받는 내장 함수\n",
    "c = tuple('xyz')     # ('x', 'y', 'z')\n",
    "\n",
    "# 빈 튜플\n",
    "empty = ()\n",
    "#순서 있음, 변경 불가, 단일 요소는 (1,)처럼 쉼표 필요\n",
    "tup = tuple([1])\n",
    "print(tup)"
   ]
  },
  {
   "cell_type": "code",
   "execution_count": 3,
   "metadata": {},
   "outputs": [
    {
     "name": "stdout",
     "output_type": "stream",
     "text": [
      "set()\n",
      "{1, 2, 3}\n"
     ]
    }
   ],
   "source": [
    "# set 기본 생성\n",
    "a = {1, 2, 3}\n",
    "b = set([2, 4, 6])\n",
    "c = set('apple')     # 중복 제거됨\n",
    "\n",
    "# 빈 세트\n",
    "empty = set()   # ⚠️ `{}`는 dict임\n",
    "print(empty)\n",
    "# 중복 제거 용도\n",
    "nums = [1, 2, 2, 3]\n",
    "unique = set(nums)   # {1, 2, 3}\n",
    "print(unique)\n",
    "#   중복 없음, 순서 없음, 변경 가능, set 연산 가능 (교집합, 합집합 등)"
   ]
  },
  {
   "cell_type": "code",
   "execution_count": null,
   "metadata": {},
   "outputs": [],
   "source": [
    "# dict 기본 생성\n",
    "a = {'a': 1, 'b': 2}\n",
    "b = dict([('x', 10), ('y', 20)]) #dict()는 key-value 쌍으로 구성된 iterable을 인자로 요구\n",
    "c = dict(zip(['k1', 'k2'], [100, 200]))\n",
    "\n",
    "# 빈 딕셔너리\n",
    "empty = {}\n",
    "\n",
    "# dict comprehension - 앞으로 자주 사용\n",
    "squares = {x: x**2 for x in range(3)}  # {0: 0, 1: 1, 2: 4}\n",
    "# key-value 구조, key는 중복 불가, 순서 유지 (Python 3.7+)"
   ]
  },
  {
   "cell_type": "code",
   "execution_count": null,
   "metadata": {},
   "outputs": [
    {
     "name": "stdout",
     "output_type": "stream",
     "text": [
      "yellow\n",
      "{'name': 'John', 'age': 30, 'city': 'busan', 'color': 'yellow'}\n"
     ]
    }
   ],
   "source": [
    "# 파이썬 딕셔너리 - 6.2.2 키-값 쌍 추가하기 148p\n",
    "person = {\"name\": \"John\", \"age\": 30}\n",
    "person[\"city\"]=\"busan\" #key:value 추가하기 \n",
    "person['color']='yellow'\n",
    "print(person['color']) # 키값으로 dictionary 값 접근하기 6.2.1 \n",
    "print(person)"
   ]
  },
  {
   "cell_type": "code",
   "execution_count": null,
   "metadata": {},
   "outputs": [
    {
     "name": "stdout",
     "output_type": "stream",
     "text": [
      "{'id': 1, 'sname': 'hong', 'coding': 'java'}\n",
      "{'id': 1, 'sname': 'hong'}\n",
      "hong\n",
      "hong\n",
      "도시 키 없음\n"
     ]
    }
   ],
   "source": [
    "#6.2.3 빈 딕셔너리로 시작하기 148p\n",
    "student={}\n",
    "student['id']=1 # 키- 값 추가하기 \n",
    "student['sname']='hong'\n",
    "student['coding']='java'\n",
    "print(student)\n",
    "del student['coding'] #6.2.5 키-값 쌍 제거하기\n",
    "print(student)\n",
    "print(student['sname'])\n",
    "print(student.get('sname')) #6.2.7 get()으로 값 접근하기\n",
    "student_city =student.get('city','도시 키 없음') #city있냐, 없으면 도시키없음 출력하라.\n",
    "print(student_city)"
   ]
  },
  {
   "cell_type": "code",
   "execution_count": 13,
   "metadata": {},
   "outputs": [],
   "source": [
    "#머신러닝/딥러닝에서 딕셔너리로 통으로 전달 key:value 예시임.\n",
    "model_params = {\n",
    "    'learning_rate': 0.01,\n",
    "    'batch_size': 32,\n",
    "    'epochs': 100\n",
    "}\n",
    "# 용도: 모델 하이퍼파라미터 설정\n",
    "# 형식: key: value로 구성"
   ]
  },
  {
   "cell_type": "code",
   "execution_count": 14,
   "metadata": {},
   "outputs": [
    {
     "name": "stdout",
     "output_type": "stream",
     "text": [
      "0.5\n"
     ]
    }
   ],
   "source": [
    "value = model_params.get('dropout', 0.5)\n",
    "# .get() – 키가 없을 때 기본값 제공\n",
    "print(value)"
   ]
  },
  {
   "cell_type": "markdown",
   "metadata": {},
   "source": [
    "6.3 dictionary 순회하기 "
   ]
  },
  {
   "cell_type": "markdown",
   "metadata": {},
   "source": [
    ".keys()\t모든 키 조회\t        my_dict.keys()\n",
    "\n",
    ".values()\t모든 값 조회\t    my_dict.values()\n",
    "\n",
    ".items()\t(키, 값) 쌍 조회\tmy_dict.items()\n",
    "\n",
    ".get(key, 기본값)\t키가 없을 때 오류 대신 \"없음\" 반환\tmy_dict.get(\"gender\", \"없음\")\n",
    "\n",
    ".update()\t다른 딕셔너리와 추가 + 갱신\tmy_dict.update(other_dict)"
   ]
  },
  {
   "cell_type": "code",
   "execution_count": 21,
   "metadata": {},
   "outputs": [
    {
     "name": "stdout",
     "output_type": "stream",
     "text": [
      "{'id': 1, 'sname': 'hong', 'coding': 'java'}\n",
      "key = id, value = 1\n",
      "key = sname, value = hong\n",
      "key = coding, value = java\n",
      "key = id\n",
      "key = sname\n",
      "key = coding\n",
      "값 = 1\n",
      "값 = hong\n",
      "값 = java\n",
      "정렬::key = coding\n",
      "정렬::key = id\n",
      "정렬::key = sname\n",
      "정렬::value = 1\n",
      "정렬::value = hong\n",
      "정렬::value = java\n"
     ]
    }
   ],
   "source": [
    "student={}\n",
    "student['id']=1\n",
    "student['sname']='hong'\n",
    "student['coding']='java'\n",
    "print(student) \n",
    "for k,v in student.items(): #for k,v 키와 벨류 (기본사용) #.items() (키, 값) 쌍 조회\n",
    "    #for k,_  벨류 필요없을때.\n",
    "    print(\"key = {}, value = {}\".format(k, v))\n",
    "\n",
    "for k in student.keys():\n",
    "    print(\"key = {}\".format(k))\n",
    "    \n",
    "for k in student.values():\n",
    "    print(\"값 = {}\".format(k))\n",
    "    \n",
    "for k in sorted(student.keys()):\n",
    "    print(\"정렬::key = {}\".format(k))  \n",
    "    \n",
    "student['skill']='java'\n",
    "for v in set(student.values()):\n",
    "    print(\"정렬::value = {}\".format(v))  "
   ]
  },
  {
   "cell_type": "code",
   "execution_count": 20,
   "metadata": {},
   "outputs": [
    {
     "name": "stdout",
     "output_type": "stream",
     "text": [
      "{'a': 1, 'b': 3, 'c': 4}\n"
     ]
    }
   ],
   "source": [
    "my_dict = {'a': 1, 'b': 2}\n",
    "other_dict = {'b': 3, 'c': 4}\n",
    "\n",
    "my_dict.update(other_dict) #dictionary들의 결합\n",
    "\n",
    "print(my_dict)\n"
   ]
  },
  {
   "cell_type": "markdown",
   "metadata": {},
   "source": [
    " dict comprehension으로 특성 스케일링"
   ]
  },
  {
   "cell_type": "code",
   "execution_count": 15,
   "metadata": {},
   "outputs": [
    {
     "name": "stdout",
     "output_type": "stream",
     "text": [
      "{'learning_rate': 0.01, 'batch_size': 32, 'epochs': 100}\n",
      "learning_rate: 0.01\n",
      "batch_size: 32\n",
      "epochs: 100\n"
     ]
    }
   ],
   "source": [
    "print(model_params)\n",
    "for k, v in model_params.items():\n",
    "    print(f\"{k}: {v}\")"
   ]
  },
  {
   "cell_type": "code",
   "execution_count": null,
   "metadata": {},
   "outputs": [
    {
     "name": "stdout",
     "output_type": "stream",
     "text": [
      "{'f1': 0.25, 'f2': 0.5, 'f3': 1.0}\n"
     ]
    }
   ],
   "source": [
    "# 특성 값을 정규화할 때 사용\n",
    "features = {'f1': 10, 'f2': 20, 'f3': 40}\n",
    "max_val = max(features.values())\n",
    "\n",
    "scaled = {k: v / max_val for k, v in features.items()} #dictionary comprehension\n",
    "print(scaled)  # {'f1': 0.25, 'f2': 0.5, 'f3': 1.0}\n"
   ]
  },
  {
   "cell_type": "markdown",
   "metadata": {},
   "source": [
    "6.4.1 딕셔너리들의 리스트 : 딕셔너리공부(1)"
   ]
  },
  {
   "cell_type": "code",
   "execution_count": 18,
   "metadata": {},
   "outputs": [
    {
     "name": "stdout",
     "output_type": "stream",
     "text": [
      "학생 = {'id': 1, 'sname': 'hong', 'coding': 'java'}\n",
      "학생 = {'id': 2, 'sname': '김', 'coding': 'javascript'}\n",
      "학생 = {'id': 3, 'sname': 'hong', 'coding': 'java'}\n",
      "[{'id': 1, 'sname': 'hong', 'coding': 'java'}, {'id': 2, 'sname': '김', 'coding': 'javascript'}, {'id': 3, 'sname': 'hong', 'coding': 'java'}, {'id': 4, 'sname': 'lee', 'coding': 'python'}, {'id': 5, 'sname': 'lee', 'coding': 'python'}, {'id': 6, 'sname': 'lee', 'coding': 'python'}, {'id': 7, 'sname': 'lee', 'coding': 'python'}]\n",
      "학생 = {'id': 1, 'sname': 'hong', 'coding': 'python'}\n",
      "학생 = {'id': 2, 'sname': '김', 'coding': 'javascript'}\n",
      "학생 = {'id': 3, 'sname': 'hong', 'coding': 'python'}\n"
     ]
    }
   ],
   "source": [
    "student0 = {'id':1, 'sname':'hong', 'coding':'java'}\n",
    "student1 = {'id':2, 'sname':'김', 'coding':'javascript'}\n",
    "student2 = {'id':3, 'sname':'hong', 'coding':'java'}\n",
    "students = [student0,student1,student2]\n",
    "for student in students:\n",
    "    print(f\"학생 = {student}\")\n",
    "    \n",
    "for id in range(4,8):\n",
    "    new_student = {'id':id, 'sname': 'lee', 'coding':'python'}\n",
    "    students.append(new_student)\n",
    "    \n",
    "print(students)\n",
    "\n",
    "#6.4.1 딕셔너리 리스트\n",
    "for student in students[:3]:\n",
    "    if student['sname']=='hong':\n",
    "        student['coding'] = 'python'\n",
    "    print(\"학생 = {}\".format(student))"
   ]
  },
  {
   "cell_type": "markdown",
   "metadata": {},
   "source": [
    "6.4.2 리스트를 담은 dictionary : 딕셔너리공부(2)"
   ]
  },
  {
   "cell_type": "markdown",
   "metadata": {},
   "source": [
    "Sklearn 예: GridSearchCV 파라미터 설정"
   ]
  },
  {
   "cell_type": "code",
   "execution_count": 31,
   "metadata": {},
   "outputs": [
    {
     "name": "stdout",
     "output_type": "stream",
     "text": [
      "1.6.1\n"
     ]
    }
   ],
   "source": [
    "import sklearn\n",
    "print(sklearn.__version__)"
   ]
  },
  {
   "cell_type": "code",
   "execution_count": 32,
   "metadata": {},
   "outputs": [
    {
     "name": "stdout",
     "output_type": "stream",
     "text": [
      "[[0, 1], [1, 2], [2, 3], [3, 4], [4, 5], [5, 6], [6, 7], [7, 8], [8, 9], [9, 10]]\n",
      "[0, 0, 0, 0, 0, 1, 1, 1, 1, 1]\n",
      "Best parameters: {'C': 1, 'kernel': 'rbf'}\n"
     ]
    }
   ],
   "source": [
    "from sklearn.model_selection import GridSearchCV #sklearn 머신러닝 라이브러리 (sklearn 평정함)\n",
    "from sklearn.svm import SVC\n",
    "\n",
    "# 간단한 2차원 X_train (10개 샘플, 2개 특성)과 y_train (레이블 2개: 0, 1)\n",
    "X_train = [[x, x + 1] for x in range(10)]\n",
    "y_train = [0 if x < 5 else 1 for x in range(10)]\n",
    "print(X_train)\n",
    "print(y_train)\n",
    "\n",
    "# 하이퍼파라미터 그리드 정의 6.4.2\n",
    "param_grid = {\n",
    "    'C': [0.1, 1, 10],\n",
    "    'kernel': ['linear', 'rbf'] #벨류가 여러게 (머신러닝에서 자주사용)\n",
    "}\n",
    "\n",
    "# GridSearchCV로 SVM 학습\n",
    "grid = GridSearchCV(SVC(), param_grid, cv=3)\n",
    "grid.fit(X_train, y_train)\n",
    "\n",
    "# 최적의 하이퍼파라미터 출력\n",
    "print(\"Best parameters:\", grid.best_params_)\n",
    "\n"
   ]
  },
  {
   "cell_type": "code",
   "execution_count": 23,
   "metadata": {},
   "outputs": [
    {
     "name": "stdout",
     "output_type": "stream",
     "text": [
      "[{'id': 1, 'sname': 'hong', 'coding': ['java', 'c', 'python']}, {'id': 2, 'sname': '김', 'coding': ['C++', 'c']}, {'id': 3, 'sname': 'hong', 'coding': ['go', 'C++', 'javascript']}, {'id': 4, 'sname': 'lee', 'coding': ['java', 'javascriptc', 'typescript']}, {'id': 5, 'sname': 'lee', 'coding': ['java', 'javascriptc', 'typescript']}, {'id': 6, 'sname': 'lee', 'coding': ['java', 'javascriptc', 'typescript']}, {'id': 7, 'sname': 'lee', 'coding': ['java', 'javascriptc', 'typescript']}]\n",
      "== 학생 정보 ==\n",
      "id: 1\n",
      "sname: hong\n",
      "coding: ['java', 'c', 'python']\n",
      "-> 코딩 언어 목록:\n",
      "   - java\n",
      "   - c\n",
      "   - python\n",
      "== 학생 정보 ==\n",
      "id: 2\n",
      "sname: 김\n",
      "coding: ['C++', 'c']\n",
      "-> 코딩 언어 목록:\n",
      "   - C++\n",
      "   - c\n",
      "== 학생 정보 ==\n",
      "id: 3\n",
      "sname: hong\n",
      "coding: ['go', 'C++', 'javascript']\n",
      "-> 코딩 언어 목록:\n",
      "   - go\n",
      "   - C++\n",
      "   - javascript\n",
      "== 학생 정보 ==\n",
      "id: 4\n",
      "sname: lee\n",
      "coding: ['java', 'javascriptc', 'typescript']\n",
      "-> 코딩 언어 목록:\n",
      "   - java\n",
      "   - javascriptc\n",
      "   - typescript\n",
      "== 학생 정보 ==\n",
      "id: 5\n",
      "sname: lee\n",
      "coding: ['java', 'javascriptc', 'typescript']\n",
      "-> 코딩 언어 목록:\n",
      "   - java\n",
      "   - javascriptc\n",
      "   - typescript\n",
      "== 학생 정보 ==\n",
      "id: 6\n",
      "sname: lee\n",
      "coding: ['java', 'javascriptc', 'typescript']\n",
      "-> 코딩 언어 목록:\n",
      "   - java\n",
      "   - javascriptc\n",
      "   - typescript\n",
      "== 학생 정보 ==\n",
      "id: 7\n",
      "sname: lee\n",
      "coding: ['java', 'javascriptc', 'typescript']\n",
      "-> 코딩 언어 목록:\n",
      "   - java\n",
      "   - javascriptc\n",
      "   - typescript\n"
     ]
    }
   ],
   "source": [
    "student0 = {'id':1, 'sname':'hong', 'coding':['java','c','python']}\n",
    "student1 = {'id':2, 'sname':'김', 'coding':['C++','c']}\n",
    "student2 = {'id':3, 'sname':'hong', 'coding':['go','C++','javascript']}\n",
    "students = [student0,student1,student2]\n",
    "# 리스트의 딕셔너리 출력: for 문사용\n",
    "\n",
    "    \n",
    "for id in range(4,8):\n",
    "    new_student = {'id':id, 'sname': 'lee', 'coding':['java','javascriptc','typescript']}\n",
    "    students.append(new_student)\n",
    "    \n",
    "print(students)\n",
    "# 리스트이 딕셔너리 객체에 대하여 items()사용하여 key, value을 구한다.\n",
    "##key가 coding이면 각 value을 출력한다\n",
    "\n",
    "# 리스트의 딕셔너리 출력 및 각 항목의 key, value 확인\n",
    "for student in students:\n",
    "    print(\"== 학생 정보 ==\")\n",
    "    for key, value in student.items(): ### 중요한 이유를 알아야 한다 -> (key, value)를 순회한다\n",
    "        print(f\"{key}: {value}\")\n",
    "        # coding 키에 대해서는 별도 출력\n",
    "        if key == 'coding':\n",
    "            print(\"-> 코딩 언어 목록:\")\n",
    "            for lang in value:\n",
    "                print(f\"   - {lang}\")\n"
   ]
  },
  {
   "cell_type": "markdown",
   "metadata": {},
   "source": [
    "6.4.3 Nested dictionary(중첩 딕셔너리) : 딕셔너리 속의 딕셔너리 : 딕셔너리공부(3)"
   ]
  },
  {
   "cell_type": "code",
   "execution_count": 33,
   "metadata": {},
   "outputs": [
    {
     "name": "stdout",
     "output_type": "stream",
     "text": [
      "user1의 정보: {'name': 'John', 'age': 30, 'city': 'New York'}\n",
      "user2의 이름: Alice\n",
      "user2의 city: Los Angeles\n"
     ]
    }
   ],
   "source": [
    "# 중첩 딕셔너리 예제: 여러 사용자의 정보\n",
    "users = {\n",
    "    \"user1\": {\n",
    "        \"name\": \"John\",\n",
    "        \"age\": 30,\n",
    "        \"city\": \"New York\"\n",
    "    },\n",
    "    \"user2\": {\n",
    "        \"name\": \"Alice\",\n",
    "        \"age\": 25,\n",
    "        \"city\": \"Los Angeles\"\n",
    "    },\n",
    "    \"user3\": {\n",
    "        \"name\": \"Bob\",\n",
    "        \"age\": 35,\n",
    "        \"city\": \"Chicago\"\n",
    "    }\n",
    "}\n",
    "\n",
    "# 특정 사용자 정보 접근\n",
    "print(\"user1의 정보:\", users[\"user1\"])\n",
    "print(\"user2의 이름:\", users[\"user2\"][\"name\"])\n",
    "\n",
    "# 모든 사용자의 key, value에 대하여 \"user2\"의 \"city\"를 찾는 코드를 작성한다\n",
    "for user_key, user_info in users.items():# 이 코드를 작성할 수 있는 코딩 능력이 요구된다 \n",
    "    if user_key == \"user2\":\n",
    "        print(\"user2의 city:\", user_info[\"city\"])\n"
   ]
  },
  {
   "cell_type": "code",
   "execution_count": null,
   "metadata": {},
   "outputs": [
    {
     "name": "stdout",
     "output_type": "stream",
     "text": [
      "Best model: RandomForest\n"
     ]
    }
   ],
   "source": [
    "model_scores = {\n",
    "    'LogisticRegression': {'accuracy': 0.88, 'f1': 0.85},\n",
    "    'RandomForest': {'accuracy': 0.92, 'f1': 0.91}\n",
    "}\n",
    "\n",
    "# 가장 높은 정확도 모델 찾기\n",
    "best_model = max(model_scores, key=lambda k: model_scores[k]['accuracy']) #key=이하가 람다식\n",
    "        #key=lambda k: model_scores[k]['accuracy'] : k는 람다식 함수의 파라미터\n",
    "        #model_scores[k]['accuracy'] 는 [LogisticRegression][accuracy]을 불러,결과는 0.88\n",
    "        #LogisticRegression도 부르고 RandomForest도 불러 \n",
    "print(f\"Best model: {best_model}\")\n"
   ]
  },
  {
   "cell_type": "markdown",
   "metadata": {},
   "source": [
    "딕셔너리공부(4) 딕셔너리 람다식\n",
    "max(iterable, key=함수) # key = 함수는 비교 기준\n",
    "\n",
    "iterable에서 가장 큰 값의 요소를 반환하는 함수\n",
    "\n",
    "key=람다식은 비교 기준을 지정"
   ]
  },
  {
   "cell_type": "markdown",
   "metadata": {},
   "source": [
    "lambda k: model_scores[k]['accuracy']\n",
    "\n",
    "k는 모델 이름 ('LogisticRegression', 'RandomForest')을 의미\n",
    "\n",
    "\n",
    "model_scores[k]['accuracy']는 해당 모델의 정확도 값을 가져옴"
   ]
  }
 ],
 "metadata": {
  "kernelspec": {
   "display_name": "Python 3",
   "language": "python",
   "name": "python3"
  },
  "language_info": {
   "codemirror_mode": {
    "name": "ipython",
    "version": 3
   },
   "file_extension": ".py",
   "mimetype": "text/x-python",
   "name": "python",
   "nbconvert_exporter": "python",
   "pygments_lexer": "ipython3",
   "version": "3.9.13"
  }
 },
 "nbformat": 4,
 "nbformat_minor": 2
}
